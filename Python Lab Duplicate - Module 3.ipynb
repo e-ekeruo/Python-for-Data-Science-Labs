{
 "cells": [
  {
   "cell_type": "markdown",
   "id": "8fe5cc64-6ece-4a7e-8f17-186673e3c7df",
   "metadata": {},
   "source": [
    "# Python Lab Duplicate - Module 3"
   ]
  },
  {
   "cell_type": "markdown",
   "id": "72a20f94-d602-4fda-8992-e10b551122c3",
   "metadata": {},
   "source": [
    "## Conditions and Branching "
   ]
  },
  {
   "cell_type": "markdown",
   "id": "abd42b30-83c5-4635-ac7a-22e2e96a454e",
   "metadata": {},
   "source": [
    "### Examples of Comparison operations"
   ]
  },
  {
   "cell_type": "code",
   "execution_count": 1,
   "id": "7b8de6cc-1548-40f1-bcb0-fb8792ee919e",
   "metadata": {},
   "outputs": [
    {
     "data": {
      "text/plain": [
       "False"
      ]
     },
     "execution_count": 1,
     "metadata": {},
     "output_type": "execute_result"
    }
   ],
   "source": [
    "# equality operator \n",
    "\n",
    "a=6\n",
    "a==7"
   ]
  },
  {
   "cell_type": "code",
   "execution_count": 3,
   "id": "3014802b-dc22-421a-b5d6-cd6784bbcf43",
   "metadata": {},
   "outputs": [
    {
     "data": {
      "text/plain": [
       "True"
      ]
     },
     "execution_count": 3,
     "metadata": {},
     "output_type": "execute_result"
    }
   ],
   "source": [
    "a==6"
   ]
  },
  {
   "cell_type": "code",
   "execution_count": 5,
   "id": "a94da12b-ed62-40a5-acbc-f0119117c4ce",
   "metadata": {},
   "outputs": [
    {
     "data": {
      "text/plain": [
       "False"
      ]
     },
     "execution_count": 5,
     "metadata": {},
     "output_type": "execute_result"
    }
   ],
   "source": [
    "\"ABC\" == \"DEF\" #used for str"
   ]
  },
  {
   "cell_type": "code",
   "execution_count": 7,
   "id": "ce394746-08af-491c-bdcc-6cb3520e509b",
   "metadata": {},
   "outputs": [
    {
     "data": {
      "text/plain": [
       "True"
      ]
     },
     "execution_count": 7,
     "metadata": {},
     "output_type": "execute_result"
    }
   ],
   "source": [
    "\"ABC\"==\"ABC\""
   ]
  },
  {
   "cell_type": "code",
   "execution_count": 9,
   "id": "cbd50b6b-c09c-4a60-a53b-0c8500afccc7",
   "metadata": {},
   "outputs": [
    {
     "data": {
      "text/plain": [
       "False"
      ]
     },
     "execution_count": 9,
     "metadata": {},
     "output_type": "execute_result"
    }
   ],
   "source": [
    "# Greater than\n",
    "\n",
    "a=6\n",
    "a>8"
   ]
  },
  {
   "cell_type": "code",
   "execution_count": 11,
   "id": "1d439449-abd8-41b1-a5ae-5bb468c3eac7",
   "metadata": {},
   "outputs": [
    {
     "data": {
      "text/plain": [
       "True"
      ]
     },
     "execution_count": 11,
     "metadata": {},
     "output_type": "execute_result"
    }
   ],
   "source": [
    "a>5"
   ]
  },
  {
   "cell_type": "code",
   "execution_count": 13,
   "id": "1b9eabda-b45d-4e85-a13b-9f5d5325aa48",
   "metadata": {},
   "outputs": [
    {
     "data": {
      "text/plain": [
       "False"
      ]
     },
     "execution_count": 13,
     "metadata": {},
     "output_type": "execute_result"
    }
   ],
   "source": [
    "#Greater than or equal to \n",
    "\n",
    "a=6\n",
    "a >= 8"
   ]
  },
  {
   "cell_type": "code",
   "execution_count": 15,
   "id": "1d9e2d0e-03ab-4f2e-aee7-39765f112d44",
   "metadata": {},
   "outputs": [
    {
     "data": {
      "text/plain": [
       "True"
      ]
     },
     "execution_count": 15,
     "metadata": {},
     "output_type": "execute_result"
    }
   ],
   "source": [
    "a=8\n",
    "a>=8"
   ]
  },
  {
   "cell_type": "code",
   "execution_count": 17,
   "id": "85dd5e8e-4776-4368-8c86-3145950abb51",
   "metadata": {},
   "outputs": [
    {
     "data": {
      "text/plain": [
       "False"
      ]
     },
     "execution_count": 17,
     "metadata": {},
     "output_type": "execute_result"
    }
   ],
   "source": [
    "#Less than\n",
    "\n",
    "a=6\n",
    "a<5"
   ]
  },
  {
   "cell_type": "code",
   "execution_count": 19,
   "id": "6d41faec-3c61-421d-9ace-62456e8c349d",
   "metadata": {},
   "outputs": [
    {
     "data": {
      "text/plain": [
       "True"
      ]
     },
     "execution_count": 19,
     "metadata": {},
     "output_type": "execute_result"
    }
   ],
   "source": [
    "a<8"
   ]
  },
  {
   "cell_type": "code",
   "execution_count": 21,
   "id": "3a3868fa-b7c4-4551-b3bc-7d021f37eca4",
   "metadata": {},
   "outputs": [
    {
     "data": {
      "text/plain": [
       "True"
      ]
     },
     "execution_count": 21,
     "metadata": {},
     "output_type": "execute_result"
    }
   ],
   "source": [
    "#Less than or equal \n",
    "\n",
    "a=6\n",
    "a<=8"
   ]
  },
  {
   "cell_type": "code",
   "execution_count": 23,
   "id": "67d9f4dd-9787-4624-936d-fc1d7f3acd07",
   "metadata": {},
   "outputs": [
    {
     "data": {
      "text/plain": [
       "True"
      ]
     },
     "execution_count": 23,
     "metadata": {},
     "output_type": "execute_result"
    }
   ],
   "source": [
    "a=8\n",
    "a<=8"
   ]
  },
  {
   "cell_type": "code",
   "execution_count": 25,
   "id": "1ee1f63a-954e-4acc-bb36-654d4b496249",
   "metadata": {},
   "outputs": [
    {
     "data": {
      "text/plain": [
       "True"
      ]
     },
     "execution_count": 25,
     "metadata": {},
     "output_type": "execute_result"
    }
   ],
   "source": [
    "#inequality sign\n",
    "\n",
    "a=6\n",
    "a !=5"
   ]
  },
  {
   "cell_type": "code",
   "execution_count": 27,
   "id": "e2fa381e-e5c8-4291-a4c2-5e3105292221",
   "metadata": {},
   "outputs": [
    {
     "data": {
      "text/plain": [
       "False"
      ]
     },
     "execution_count": 27,
     "metadata": {},
     "output_type": "execute_result"
    }
   ],
   "source": [
    "a !=6"
   ]
  },
  {
   "cell_type": "code",
   "execution_count": 29,
   "id": "57771355-8840-4aa2-adda-4c91fcff020e",
   "metadata": {},
   "outputs": [
    {
     "data": {
      "text/plain": [
       "True"
      ]
     },
     "execution_count": 29,
     "metadata": {},
     "output_type": "execute_result"
    }
   ],
   "source": [
    "\"ABC\" != \"CDE\" # used for str"
   ]
  },
  {
   "cell_type": "code",
   "execution_count": 31,
   "id": "0e268e54-d2c9-49b2-a2d8-3698a84df727",
   "metadata": {},
   "outputs": [
    {
     "data": {
      "text/plain": [
       "False"
      ]
     },
     "execution_count": 31,
     "metadata": {},
     "output_type": "execute_result"
    }
   ],
   "source": [
    "\"ABC\" != \"ABC\""
   ]
  },
  {
   "cell_type": "markdown",
   "id": "4c13196f-28e5-438c-bfdc-21ff3ca06773",
   "metadata": {},
   "source": [
    "### Branching statements"
   ]
  },
  {
   "cell_type": "code",
   "execution_count": 34,
   "id": "717a3102-90f1-4b93-a79a-f25a872211f2",
   "metadata": {},
   "outputs": [
    {
     "name": "stdout",
     "output_type": "stream",
     "text": [
      "operation completed\n"
     ]
    }
   ],
   "source": [
    "# Example of if statement \n",
    "\n",
    "age = 16\n",
    "\n",
    "if age>18:\n",
    "    print(\"you can enter\") #will only print if condition is meet\n",
    "\n",
    "print (\"operation completed\") "
   ]
  },
  {
   "cell_type": "code",
   "execution_count": 36,
   "id": "51f2693f-c868-45bf-bf74-35f2230a9377",
   "metadata": {},
   "outputs": [
    {
     "name": "stdout",
     "output_type": "stream",
     "text": [
      "you can enter\n",
      "operation completed\n"
     ]
    }
   ],
   "source": [
    "age = 20\n",
    "\n",
    "if age>18:\n",
    "    print (\"you can enter\") #will only print if condition is meet\n",
    "\n",
    "print (\"operation completed\")"
   ]
  },
  {
   "cell_type": "code",
   "execution_count": 38,
   "id": "846c78c2-e3dd-4231-b77b-28fa4480fed1",
   "metadata": {},
   "outputs": [
    {
     "name": "stdout",
     "output_type": "stream",
     "text": [
      "you cannot enter\n",
      "operation completed\n"
     ]
    }
   ],
   "source": [
    "# Example of if-else statement\n",
    "\n",
    "age = 16\n",
    "\n",
    "if age>18:\n",
    "    print(\"you can enter\")\n",
    "else: #is only printed if prior condition is not meet\n",
    "    print(\"you cannot enter\")\n",
    "\n",
    "print(\"operation completed\")\n"
   ]
  },
  {
   "cell_type": "code",
   "execution_count": 40,
   "id": "29695b31-7df6-4c97-94b5-eb07389da14b",
   "metadata": {},
   "outputs": [
    {
     "name": "stdout",
     "output_type": "stream",
     "text": [
      "you can enter\n",
      "operation completed\n"
     ]
    }
   ],
   "source": [
    "age = 20\n",
    "\n",
    "if age>18:\n",
    "    print(\"you can enter\")\n",
    "else: #is only printed if prior condition is not meet\n",
    "    print(\"you cannot enter\")\n",
    "\n",
    "print(\"operation completed\")"
   ]
  },
  {
   "cell_type": "code",
   "execution_count": 42,
   "id": "ab4e0da9-88e9-4458-903b-92cc0b00986c",
   "metadata": {},
   "outputs": [
    {
     "name": "stdout",
     "output_type": "stream",
     "text": [
      "you can enter with an adult\n",
      "operation completed\n"
     ]
    }
   ],
   "source": [
    "# Example of elif statement\n",
    "\n",
    "age =16\n",
    "\n",
    "if age>18:\n",
    "    print(\"you can enter\")\n",
    "elif age==16: #checks condition if prior condition was not meet\n",
    "    print(\"you can enter with an adult\")\n",
    "else: #only prints if neither of the prior conditions are meet\n",
    "    print(\"you cannot enter\")\n",
    "\n",
    "print(\"operation completed\")"
   ]
  },
  {
   "cell_type": "code",
   "execution_count": 44,
   "id": "d41e2d5c-c3cc-41c1-b67f-e957178f5673",
   "metadata": {},
   "outputs": [
    {
     "name": "stdout",
     "output_type": "stream",
     "text": [
      "you cannot enter\n",
      "operation completed\n"
     ]
    }
   ],
   "source": [
    "age = 15\n",
    "\n",
    "if age>18:\n",
    "    print(\"you can enter\")\n",
    "elif age==16: #checks condition if prior condition was not meet\n",
    "    print(\"you can enter with an adult\")\n",
    "else: #only print if neither of the prior condition are meet\n",
    "    print(\"you cannot enter\")\n",
    "\n",
    "print(\"operation completed\")"
   ]
  },
  {
   "cell_type": "code",
   "execution_count": 46,
   "id": "6810e8ff-382d-4bd2-a8f1-ff5131a14ff4",
   "metadata": {},
   "outputs": [
    {
     "name": "stdout",
     "output_type": "stream",
     "text": [
      "you can enter\n",
      "operation completed\n"
     ]
    }
   ],
   "source": [
    "age =20\n",
    "\n",
    "if age>18:\n",
    "    print(\"you can enter\")\n",
    "elif age==16:\n",
    "    print(\"you can enter with an adult\")\n",
    "else:\n",
    "    print(\"you cannot enter\")\n",
    "\n",
    "print(\"operation completed\")"
   ]
  },
  {
   "cell_type": "code",
   "execution_count": 48,
   "id": "bd146ce7-791a-40d0-9f7b-288f3a772fdf",
   "metadata": {},
   "outputs": [
    {
     "name": "stdout",
     "output_type": "stream",
     "text": [
      "try again next year\n",
      "operation ended\n"
     ]
    }
   ],
   "source": [
    "#using multiple elif statements\n",
    "\n",
    "age = 15\n",
    "\n",
    "if age>18:\n",
    "    print(\"you can enter\")\n",
    "elif age==16:\n",
    "    print(\"you can enter with an adult\")\n",
    "elif age==15: ## will only print if the two prior conditions are not meet\n",
    "    print(\"try again next year\") \n",
    "else:\n",
    "    print(\"you cannot enter\")\n",
    "\n",
    "print(\"operation ended\")"
   ]
  },
  {
   "cell_type": "markdown",
   "id": "fd67b422-c799-4945-ae77-8468a24722b9",
   "metadata": {},
   "source": [
    "### Logical operators"
   ]
  },
  {
   "cell_type": "code",
   "execution_count": 51,
   "id": "5a9b9e12-7564-4e76-ad9a-8f85fd3873b8",
   "metadata": {},
   "outputs": [
    {
     "name": "stdout",
     "output_type": "stream",
     "text": [
      "you're a teenager\n",
      "operation completed\n"
     ]
    }
   ],
   "source": [
    "# example of an AND statement\n",
    "\n",
    "age = 15\n",
    "\n",
    "if age>12 and age<18:\n",
    "    print(\"you're a teenager\")\n",
    "elif age>18 and age<25:\n",
    "    print(\"you're a young adult\")\n",
    "elif age>25:\n",
    "    print(\"you're an adult\")\n",
    "else:\n",
    "    print(\"you're a baby\")\n",
    "\n",
    "print(\"operation completed\")"
   ]
  },
  {
   "cell_type": "code",
   "execution_count": 53,
   "id": "00ecae68-1040-4e7c-88ab-8e01481c9564",
   "metadata": {},
   "outputs": [
    {
     "name": "stdout",
     "output_type": "stream",
     "text": [
      "you're a young adult\n",
      "operation completed\n"
     ]
    }
   ],
   "source": [
    "age = 19\n",
    "\n",
    "if age>12 and age<18:\n",
    "    print(\"you're a teenager\")\n",
    "elif age>18 and age<25:\n",
    "    print(\"you're a young adult\")\n",
    "elif age>25:\n",
    "    print(\"you're an adult\")\n",
    "else:\n",
    "    print(\"you're a baby\")\n",
    "\n",
    "print(\"operation completed\")"
   ]
  },
  {
   "cell_type": "code",
   "execution_count": 55,
   "id": "d504a903-fbe2-4d3a-97b3-5256c70c1500",
   "metadata": {},
   "outputs": [
    {
     "name": "stdout",
     "output_type": "stream",
     "text": [
      "you're an adult\n",
      "operation completed\n"
     ]
    }
   ],
   "source": [
    "age = 30\n",
    "\n",
    "if age>12 and age<18:\n",
    "    print(\"you're a teenager\")\n",
    "elif age>18 and age<25:\n",
    "    print(\"you're a young adult\")\n",
    "elif age>25:\n",
    "    print(\"you're an adult\")\n",
    "else:\n",
    "    print(\"you're a baby\")\n",
    "\n",
    "print(\"operation completed\")"
   ]
  },
  {
   "cell_type": "code",
   "execution_count": 57,
   "id": "88ce8346-336f-412e-87d9-8622dab81c36",
   "metadata": {},
   "outputs": [
    {
     "name": "stdout",
     "output_type": "stream",
     "text": [
      "you're a baby\n",
      "operation completed\n"
     ]
    }
   ],
   "source": [
    "age = 5\n",
    "\n",
    "if age>12 and age<18:\n",
    "    print(\"you're a teenager\")\n",
    "elif age>18 and age<25:\n",
    "    print(\"you're a young adult\")\n",
    "elif age>25:\n",
    "    print(\"you're an adult\")\n",
    "else:\n",
    "    print(\"you're a baby\")\n",
    "\n",
    "print(\"operation completed\")"
   ]
  },
  {
   "cell_type": "code",
   "execution_count": 59,
   "id": "28610aad-c743-4066-bf4c-8dacdea9b617",
   "metadata": {},
   "outputs": [
    {
     "name": "stdout",
     "output_type": "stream",
     "text": [
      "you're an adult\n"
     ]
    }
   ],
   "source": [
    "# example of an OR statement\n",
    "\n",
    "age = 18\n",
    "\n",
    "if age==18 or age>18:\n",
    "    print(\"you're an adult\")\n",
    "else:\n",
    "    print(\"you're not an adult\")"
   ]
  },
  {
   "cell_type": "code",
   "execution_count": 61,
   "id": "64399365-cfdc-43b2-82e6-36c0653a6798",
   "metadata": {},
   "outputs": [
    {
     "name": "stdout",
     "output_type": "stream",
     "text": [
      "you're an adult\n"
     ]
    }
   ],
   "source": [
    "age = 20\n",
    "\n",
    "if age==18 or age>18:\n",
    "    print(\"you're an adult\")\n",
    "else:\n",
    "    print(\"you're not an adult\")"
   ]
  },
  {
   "cell_type": "code",
   "execution_count": 63,
   "id": "a416d0b0-a665-4779-a9e5-89f1fe73a3b0",
   "metadata": {},
   "outputs": [
    {
     "name": "stdout",
     "output_type": "stream",
     "text": [
      "you're not an adult\n"
     ]
    }
   ],
   "source": [
    "age = 17\n",
    "\n",
    "if age==18 or age>18:\n",
    "    print(\"you're an adult\")\n",
    "else:\n",
    "    print(\"you're not an adult\")"
   ]
  },
  {
   "cell_type": "code",
   "execution_count": 65,
   "id": "2fae910c-fa61-4657-858c-d06cee1eb203",
   "metadata": {},
   "outputs": [
    {
     "name": "stdout",
     "output_type": "stream",
     "text": [
      "you cannot enter\n"
     ]
    }
   ],
   "source": [
    "# example of NOT statement\n",
    "\n",
    "age = 15\n",
    "\n",
    "if not age>20:\n",
    "    print(\"you cannot enter\")\n",
    "else:\n",
    "    print(\"you can enter\")"
   ]
  },
  {
   "cell_type": "code",
   "execution_count": 67,
   "id": "36d2f8da-e477-4d5b-8460-1b77d7cb1c2e",
   "metadata": {},
   "outputs": [
    {
     "name": "stdout",
     "output_type": "stream",
     "text": [
      "you can enter\n"
     ]
    }
   ],
   "source": [
    "age = 21\n",
    "\n",
    "if not age>20:\n",
    "    print(\"you cannot enter\")\n",
    "else:\n",
    "    print(\"you can enter\")"
   ]
  },
  {
   "cell_type": "code",
   "execution_count": 69,
   "id": "f1c54e99-ddb6-4b1b-a474-8b1908ed0b1d",
   "metadata": {},
   "outputs": [
    {
     "name": "stdout",
     "output_type": "stream",
     "text": [
      "you cannot enter\n"
     ]
    }
   ],
   "source": [
    "age = 20\n",
    "\n",
    "if not age>20: #greater than does not include equals \n",
    "    print(\"you cannot enter\")\n",
    "else:\n",
    "    print(\"you can enter\")"
   ]
  },
  {
   "cell_type": "markdown",
   "id": "79e54380-1e77-4304-b479-5768b146fecb",
   "metadata": {},
   "source": [
    "## Loops "
   ]
  },
  {
   "cell_type": "markdown",
   "id": "7175a75c-b3c1-4379-9880-e918346dee82",
   "metadata": {},
   "source": [
    "### For Loops"
   ]
  },
  {
   "cell_type": "code",
   "execution_count": 73,
   "id": "c7812282-9efd-48dd-a19f-e287801d9a12",
   "metadata": {},
   "outputs": [
    {
     "name": "stdout",
     "output_type": "stream",
     "text": [
      "Joy\n",
      "Anger\n",
      "Sadness\n",
      "Envy\n"
     ]
    }
   ],
   "source": [
    "#for loop example with list\n",
    "\n",
    "sequence = [\"Joy\", \"Anger\", \"Sadness\", \"Envy\"]\n",
    "\n",
    "for item in sequence:\n",
    "    print (item) "
   ]
  },
  {
   "cell_type": "code",
   "execution_count": 75,
   "id": "70666dfe-165e-4dc1-b20a-efdb68063193",
   "metadata": {},
   "outputs": [
    {
     "name": "stdout",
     "output_type": "stream",
     "text": [
      "['Happy', 'Anger', 'Sadness', 'Envy']\n",
      "['Happy', 'Happy', 'Sadness', 'Envy']\n",
      "['Happy', 'Happy', 'Happy', 'Envy']\n"
     ]
    }
   ],
   "source": [
    "#for loop to change items in sequence\n",
    "\n",
    "sequence = [\"Joy\", \"Anger\", \"Sadness\", \"Envy\"]\n",
    "\n",
    "for item in range(0,3):\n",
    "    sequence[item] = \"Happy\"\n",
    "    print(sequence)"
   ]
  },
  {
   "cell_type": "code",
   "execution_count": 77,
   "id": "9fdcf7db-a926-4576-9af6-22f061be9563",
   "metadata": {},
   "outputs": [
    {
     "name": "stdout",
     "output_type": "stream",
     "text": [
      "5\n",
      "6\n",
      "7\n",
      "8\n",
      "9\n",
      "10\n"
     ]
    }
   ],
   "source": [
    "#for loop example with range\n",
    "\n",
    "for numbers in range(5,11):\n",
    "    print(numbers)"
   ]
  },
  {
   "cell_type": "code",
   "execution_count": 79,
   "id": "51b300bf-5c64-4dbb-9366-a5032c4870ad",
   "metadata": {},
   "outputs": [
    {
     "name": "stdout",
     "output_type": "stream",
     "text": [
      "0\n",
      "1\n",
      "2\n",
      "3\n",
      "4\n",
      "5\n",
      "6\n",
      "7\n",
      "8\n",
      "9\n",
      "10\n"
     ]
    }
   ],
   "source": [
    "for numbers in range(11): #starts at 0 if first number is not specified \n",
    "    print(numbers)"
   ]
  },
  {
   "cell_type": "code",
   "execution_count": 81,
   "id": "259ff633-b078-4138-8623-5a22ef509a0d",
   "metadata": {},
   "outputs": [
    {
     "name": "stdout",
     "output_type": "stream",
     "text": [
      "0 Joy\n",
      "1 Anger\n",
      "2 Sadness\n",
      "3 Envy\n"
     ]
    }
   ],
   "source": [
    "# enumerated for loop provides index location and item\n",
    "\n",
    "sequence = [\"Joy\", \"Anger\", \"Sadness\", \"Envy\"]\n",
    "\n",
    "for index, item in enumerate (sequence):\n",
    "    print (index, item)"
   ]
  },
  {
   "cell_type": "markdown",
   "id": "38192b10-873e-4407-b184-2f305c27815b",
   "metadata": {},
   "source": [
    "### While Loops"
   ]
  },
  {
   "cell_type": "code",
   "execution_count": 84,
   "id": "e27b7c06-8826-4d15-becd-5507253201ee",
   "metadata": {},
   "outputs": [
    {
     "name": "stdout",
     "output_type": "stream",
     "text": [
      "0\n",
      "1\n",
      "2\n",
      "3\n",
      "4\n",
      "5\n",
      "6\n",
      "7\n",
      "8\n",
      "9\n",
      "10\n"
     ]
    }
   ],
   "source": [
    "# while loop exmaple\n",
    "\n",
    "count=0 #variable named count initalizes sequence \n",
    "\n",
    "while count<=10:\n",
    "    print(count)\n",
    "    count = count+1 #can also be written as count+=1"
   ]
  },
  {
   "cell_type": "code",
   "execution_count": 86,
   "id": "dbddf9ec-5403-48a2-9d27-73afa7ffad59",
   "metadata": {},
   "outputs": [
    {
     "name": "stdout",
     "output_type": "stream",
     "text": [
      "1\n",
      "2\n",
      "3\n",
      "4\n"
     ]
    }
   ],
   "source": [
    "# using variables within while loop\n",
    "\n",
    "numbered_list = [1,2,3,4,5,6,7,8,9,10]\n",
    "\n",
    "index = 0 #initalizes sequence\n",
    "number = numbered_list[0] \n",
    "\n",
    "while number<5:\n",
    "    print(number)\n",
    "    index = index+1\n",
    "    number = numbered_list[index] #helps continue count\n",
    "    "
   ]
  },
  {
   "cell_type": "code",
   "execution_count": 88,
   "id": "3a5459c6-2509-4d2b-8a98-324c0ba87d18",
   "metadata": {},
   "outputs": [
    {
     "name": "stdout",
     "output_type": "stream",
     "text": [
      "1\n",
      "2\n",
      "3\n",
      "4\n"
     ]
    }
   ],
   "source": [
    "numbered_list = [1,2,3,4,5,6,7,8,9,10]\n",
    "\n",
    "index = 0 #initalizes sequence\n",
    "\n",
    "while numbered_list[index]<5:\n",
    "    print(numbered_list[index])\n",
    "    index = index + 1"
   ]
  },
  {
   "cell_type": "code",
   "execution_count": 90,
   "id": "c0a0e396-8ba5-4cdc-a2a6-148b1e31cbcc",
   "metadata": {},
   "outputs": [
    {
     "name": "stdout",
     "output_type": "stream",
     "text": [
      "0 True 3\n",
      "1 4 12\n",
      "2 False 0\n"
     ]
    }
   ],
   "source": [
    "random_list = [True, 4, False, 7, 9]\n",
    "\n",
    "index = 0\n",
    "item = random_list[0]\n",
    "answer = item * 3\n",
    "\n",
    "\n",
    "while answer < 20:\n",
    "    print (index, item, answer)\n",
    "    index+=1\n",
    "    item = random_list[index]\n",
    "    answer = item * 3"
   ]
  },
  {
   "cell_type": "code",
   "execution_count": 92,
   "id": "e3e4cbe2-8f53-481b-aa9a-5d7056c0fea0",
   "metadata": {},
   "outputs": [
    {
     "name": "stdout",
     "output_type": "stream",
     "text": [
      "10\n",
      "9.5\n",
      "10\n",
      "8\n",
      "7.5\n"
     ]
    }
   ],
   "source": [
    "#while loop exercises - if score is less than 6 exit loop\n",
    "\n",
    "PlayListRatings = [10, 9.5, 10, 8, 7.5, 5, 10, 10]\n",
    "\n",
    "index = 0\n",
    "rating = PlayListRatings[0]\n",
    "\n",
    "while rating > 6:\n",
    "    print(rating)\n",
    "    index = index+1\n",
    "    rating = PlayListRatings[index]"
   ]
  },
  {
   "cell_type": "markdown",
   "id": "7b802457-b889-4684-9ea6-cc30c1d60323",
   "metadata": {},
   "source": [
    "Write a while loop to copy the strings 'orange' of the list squares to the list new_squares. Stop and exit the loop if the value on the list is not 'orange':"
   ]
  },
  {
   "cell_type": "code",
   "execution_count": 95,
   "id": "1420683b-9aa6-413f-a237-a3f6fabeedfb",
   "metadata": {},
   "outputs": [
    {
     "name": "stdout",
     "output_type": "stream",
     "text": [
      "['orange', 'orange']\n"
     ]
    }
   ],
   "source": [
    "squares = ['orange', 'orange', 'purple', 'blue ', 'orange']\n",
    "new_squares = []\n",
    "\n",
    "index = 0\n",
    "color = squares[0]\n",
    "\n",
    "while color == \"orange\":\n",
    "    new_squares.append(color)\n",
    "    index = index +1\n",
    "    color = squares[index]\n",
    "\n",
    "print(new_squares)"
   ]
  },
  {
   "cell_type": "markdown",
   "id": "c2d37432-bdce-4392-8c3e-b557dbfa79bc",
   "metadata": {},
   "source": [
    "Write a while loop that takes an integer and multiples it by itself. Stop and exit the loop when the number provided is less than zero "
   ]
  },
  {
   "cell_type": "code",
   "execution_count": 98,
   "id": "7b721760-63a8-41e9-867f-268cc6d5020a",
   "metadata": {},
   "outputs": [
    {
     "name": "stdout",
     "output_type": "stream",
     "text": [
      "7 squared equals 49\n",
      "9 squared equals 81\n",
      "5 squared equals 25\n"
     ]
    }
   ],
   "source": [
    "integer_list = [7, 9, 5, -8, 0, 9, 4, 3]\n",
    "\n",
    "index = 0\n",
    "number = integer_list[0]\n",
    "\n",
    "while number > 0:\n",
    "    answer = number * number\n",
    "    print (number, \"squared equals\", answer)\n",
    "    index = index+1\n",
    "    number = integer_list[index]"
   ]
  },
  {
   "cell_type": "markdown",
   "id": "e504d134-506c-4f68-ad43-868500322f0d",
   "metadata": {},
   "source": [
    "## Functions "
   ]
  },
  {
   "cell_type": "code",
   "execution_count": 101,
   "id": "d9031ddc-161d-4648-9c94-8784120785bf",
   "metadata": {},
   "outputs": [
    {
     "name": "stdout",
     "output_type": "stream",
     "text": [
      "6\n"
     ]
    }
   ],
   "source": [
    "# example of how to create a new function with def\n",
    "\n",
    "def addition (a, b, c): # define the paramaters \n",
    "    \"\"\"\n",
    "    adds three paramaters together #example of documentation string (ie docstring)\n",
    "    \"\"\"\n",
    "    answer = a+b+c # define the function\n",
    "    return answer  #return sends answer to assigned variable (ie stored_value)\n",
    "\n",
    "stored_value = addition (2, 2, 2)\n",
    "print (stored_value)"
   ]
  },
  {
   "cell_type": "code",
   "execution_count": 112,
   "id": "a9f310b1-6c7b-445e-8d47-6c5024a00c9e",
   "metadata": {},
   "outputs": [
    {
     "name": "stdout",
     "output_type": "stream",
     "text": [
      "1\n",
      "2\n",
      "3\n",
      "4\n",
      "5\n"
     ]
    }
   ],
   "source": [
    "#example of using for loop within defined function\n",
    "\n",
    "def print_numbers(list):\n",
    "    for number in list:\n",
    "        print (number)\n",
    "\n",
    "list = [1, 2, 3, 4, 5]\n",
    "\n",
    "print_numbers(list)\n"
   ]
  },
  {
   "cell_type": "code",
   "execution_count": 118,
   "id": "ef7e17f2-0266-474c-bb2a-970dd8cd5109",
   "metadata": {},
   "outputs": [
    {
     "name": "stdout",
     "output_type": "stream",
     "text": [
      "0\n",
      "1\n",
      "2\n",
      "3\n",
      "4\n",
      "5\n",
      "6\n",
      "7\n",
      "8\n",
      "9\n",
      "10\n"
     ]
    }
   ],
   "source": [
    "#example of using while loop within defined function \n",
    "\n",
    "def count_to_ten():\n",
    "    count = 0\n",
    "    while count<=10:\n",
    "        print(count)\n",
    "        count = count +1\n",
    "\n",
    "count_to_ten()"
   ]
  },
  {
   "cell_type": "code",
   "execution_count": 180,
   "id": "43d03e24-6ad6-4714-b598-99b1c2a963b5",
   "metadata": {},
   "outputs": [
    {
     "name": "stdout",
     "output_type": "stream",
     "text": [
      "['milk']\n",
      "['milk', 'eggs']\n",
      "['milk', 'eggs', 'cheese']\n",
      "['milk', 'eggs', 'cheese', 'bread']\n",
      "item already in list\n",
      "['milk', 'eggs', 'cheese', 'bread']\n"
     ]
    }
   ],
   "source": [
    "#examples of modifying a list (removing items; adding items) using defined functions \n",
    "\n",
    "shopping_list = []\n",
    "\n",
    "def add_item(list, item):\n",
    "    if item not in list:\n",
    "        list.append(item)\n",
    "    else:\n",
    "        print(\"item already in list\")\n",
    "    print(shopping_list) # note difference between return and print command \n",
    "\n",
    "def remove_item(list, item):    \n",
    "    if item in list:\n",
    "        list.remove(item)\n",
    "        return(list) # note difference between return and print command \n",
    "    else:\n",
    "        print(\"item not in list\")\n",
    "\n",
    "add_item(shopping_list, \"milk\")    \n",
    "add_item(shopping_list, \"eggs\")\n",
    "add_item(shopping_list, \"cheese\")\n",
    "add_item(shopping_list, \"bread\")\n",
    "add_item(shopping_list, \"bread\")"
   ]
  },
  {
   "cell_type": "code",
   "execution_count": 182,
   "id": "b1d0671b-72f7-40f3-914f-2ce84796f3e3",
   "metadata": {},
   "outputs": [
    {
     "name": "stdout",
     "output_type": "stream",
     "text": [
      "['eggs', 'cheese']\n"
     ]
    }
   ],
   "source": [
    "remove_item(shopping_list, \"bread\")\n",
    "remove_item(shopping_list, \"milk\")\n",
    "print(shopping_list) #note difference between return and print commmand "
   ]
  },
  {
   "cell_type": "code",
   "execution_count": 184,
   "id": "5056fa05-d8db-4b5b-a92e-3d193ae5da39",
   "metadata": {},
   "outputs": [
    {
     "name": "stdout",
     "output_type": "stream",
     "text": [
      "item not in list\n"
     ]
    }
   ],
   "source": [
    "remove_item(shopping_list, \"salad\")"
   ]
  },
  {
   "cell_type": "markdown",
   "id": "5ba542f6-c734-475a-8070-098d5ae1b04e",
   "metadata": {},
   "source": [
    "## Exception Handling "
   ]
  },
  {
   "cell_type": "code",
   "execution_count": 191,
   "id": "5df9fbda-7357-4767-9879-be33646ecfdc",
   "metadata": {},
   "outputs": [
    {
     "name": "stdout",
     "output_type": "stream",
     "text": [
      "cannot divide by zero\n"
     ]
    }
   ],
   "source": [
    "# Example of try-except with Zero Division Error\n",
    "\n",
    "try:\n",
    "    10/0\n",
    "except ZeroDivisionError: # specifies what to print for a spcific error\n",
    "    print(\"cannot divide by zero\")"
   ]
  },
  {
   "cell_type": "markdown",
   "id": "360c38b5-3c47-401c-8a32-0063111e9241",
   "metadata": {},
   "source": [
    "### user input examples"
   ]
  },
  {
   "cell_type": "code",
   "execution_count": 201,
   "id": "3f8ea1a0-3894-499e-9f15-3fddd48dc0d1",
   "metadata": {},
   "outputs": [
    {
     "name": "stdin",
     "output_type": "stream",
     "text": [
      "please enter content hello world\n"
     ]
    },
    {
     "name": "stdout",
     "output_type": "stream",
     "text": [
      "hello world\n"
     ]
    }
   ],
   "source": [
    "a = input(\"please enter content\")\n",
    "print(a)"
   ]
  },
  {
   "cell_type": "code",
   "execution_count": 203,
   "id": "69875a92-3b95-4660-b6e7-9d1705b632d4",
   "metadata": {},
   "outputs": [
    {
     "name": "stdin",
     "output_type": "stream",
     "text": [
      "enter a number 7\n",
      "enter a number 6\n"
     ]
    },
    {
     "ename": "TypeError",
     "evalue": "unsupported operand type(s) for /: 'str' and 'str'",
     "output_type": "error",
     "traceback": [
      "\u001b[0;31m---------------------------------------------------------------------------\u001b[0m",
      "\u001b[0;31mTypeError\u001b[0m                                 Traceback (most recent call last)",
      "Cell \u001b[0;32mIn[203], line 1\u001b[0m\n\u001b[0;32m----> 1\u001b[0m a \u001b[38;5;241m=\u001b[39m \u001b[38;5;28minput\u001b[39m(\u001b[38;5;124m\"\u001b[39m\u001b[38;5;124menter a number\u001b[39m\u001b[38;5;124m\"\u001b[39m)\u001b[38;5;241m/\u001b[39m\u001b[38;5;28minput\u001b[39m(\u001b[38;5;124m\"\u001b[39m\u001b[38;5;124menter a number\u001b[39m\u001b[38;5;124m\"\u001b[39m)\n\u001b[1;32m      2\u001b[0m \u001b[38;5;28mprint\u001b[39m(a)\n",
      "\u001b[0;31mTypeError\u001b[0m: unsupported operand type(s) for /: 'str' and 'str'"
     ]
    }
   ],
   "source": [
    "#demonstrates that user inputs are registered as strings\n",
    "\n",
    "a = input(\"enter a number\")/input(\"enter a number\") \n",
    "print(a) "
   ]
  },
  {
   "cell_type": "code",
   "execution_count": 205,
   "id": "637eb654-bdd4-458e-aa28-5912c2884113",
   "metadata": {},
   "outputs": [
    {
     "name": "stdin",
     "output_type": "stream",
     "text": [
      "enter a number 7\n",
      "enter a number 6\n"
     ]
    },
    {
     "name": "stdout",
     "output_type": "stream",
     "text": [
      "1.1666666666666667\n"
     ]
    }
   ],
   "source": [
    "a = float(input(\"enter a number\"))/float(input(\"enter a number\"))\n",
    "print(a) #change user input to float"
   ]
  },
  {
   "cell_type": "markdown",
   "id": "bf488838-53d0-46ff-8a68-83b3a515aa99",
   "metadata": {},
   "source": [
    "### More Examples of Exception Handling"
   ]
  },
  {
   "cell_type": "code",
   "execution_count": 214,
   "id": "98c24975-631c-4862-9710-08e60edce9c8",
   "metadata": {},
   "outputs": [
    {
     "name": "stdin",
     "output_type": "stream",
     "text": [
      "please enter a value for b: 7\n"
     ]
    },
    {
     "name": "stdout",
     "output_type": "stream",
     "text": [
      "0.14285714285714285\n"
     ]
    }
   ],
   "source": [
    "a = 1\n",
    "\n",
    "try:\n",
    "    b = int(input(\"please enter a value for b:\"))\n",
    "    c = a/b\n",
    "    print (c)\n",
    "except: #prints the same thing for all errors\n",
    "    print(\"there was an error\")"
   ]
  },
  {
   "cell_type": "code",
   "execution_count": 216,
   "id": "1e16e7de-b705-4a5e-9a1c-e13016d4ff80",
   "metadata": {},
   "outputs": [
    {
     "name": "stdin",
     "output_type": "stream",
     "text": [
      "please enter a value for b: 0\n"
     ]
    },
    {
     "name": "stdout",
     "output_type": "stream",
     "text": [
      "there was an error\n"
     ]
    }
   ],
   "source": [
    "a = 1\n",
    "\n",
    "try:\n",
    "    b = int(input(\"please enter a value for b:\"))\n",
    "    c = a/b\n",
    "    print (c)\n",
    "except: #the below user input is an example of Zero Division Error\n",
    "    print(\"there was an error\")"
   ]
  },
  {
   "cell_type": "code",
   "execution_count": 218,
   "id": "2bd56e53-173f-4d6e-81d7-c6fca05adf0a",
   "metadata": {},
   "outputs": [
    {
     "name": "stdin",
     "output_type": "stream",
     "text": [
      "please enter a value for b: happy\n"
     ]
    },
    {
     "name": "stdout",
     "output_type": "stream",
     "text": [
      "there was an error\n"
     ]
    }
   ],
   "source": [
    "a = 1\n",
    "\n",
    "try:\n",
    "    b = int(input(\"please enter a value for b:\"))\n",
    "    c = a/b\n",
    "    print (c)\n",
    "except: #the below user input is an example of a Value Error\n",
    "    print(\"there was an error\")"
   ]
  },
  {
   "cell_type": "code",
   "execution_count": 220,
   "id": "4c6b64da-779f-4601-a279-3e9c956af343",
   "metadata": {},
   "outputs": [
    {
     "name": "stdin",
     "output_type": "stream",
     "text": [
      "please enter a value for b: 0\n"
     ]
    },
    {
     "name": "stdout",
     "output_type": "stream",
     "text": [
      "you cannot divide by zero\n",
      "operation complete\n"
     ]
    }
   ],
   "source": [
    "# Example of try-except that includes else and finally\n",
    "\n",
    "a = 1\n",
    "\n",
    "try:\n",
    "    b = int(input(\"please enter a value for b:\"))\n",
    "    c = a/b\n",
    "except ZeroDivisionError: #the below user input is an example Zero Division Error\n",
    "    print(\"you cannot divide by zero\")\n",
    "except ValueError:\n",
    "    print(\"you did not provide a number\")\n",
    "except:\n",
    "    print(\"there was an error\")\n",
    "else:\n",
    "    print(\"the calculation was successful; c=\", c)\n",
    "finally:\n",
    "    print(\"operation complete\")"
   ]
  },
  {
   "cell_type": "code",
   "execution_count": 222,
   "id": "6052f452-8ad8-4abf-a9e0-2b1e53ddc40a",
   "metadata": {},
   "outputs": [
    {
     "name": "stdin",
     "output_type": "stream",
     "text": [
      "please enter a value for b: happy\n"
     ]
    },
    {
     "name": "stdout",
     "output_type": "stream",
     "text": [
      "you did not provide a number\n",
      "operation complete\n"
     ]
    }
   ],
   "source": [
    "a = 1\n",
    "\n",
    "try:\n",
    "    b = int(input(\"please enter a value for b:\"))\n",
    "    c = a/b\n",
    "except ZeroDivisionError: #the below user input is an example Zero Division Error\n",
    "    print(\"you cannot divide by zero\")\n",
    "except ValueError:\n",
    "    print(\"you did not provide a number\")\n",
    "except:\n",
    "    print(\"there was an error\")\n",
    "else:\n",
    "    print(\"the calculation was successful; c=\", c)\n",
    "finally:\n",
    "    print(\"operation complete\")"
   ]
  },
  {
   "cell_type": "code",
   "execution_count": 228,
   "id": "1f40d592-0971-46f4-aa4d-13a0d0a163d7",
   "metadata": {},
   "outputs": [
    {
     "name": "stdin",
     "output_type": "stream",
     "text": [
      "please enter a value for b: 6\n"
     ]
    },
    {
     "name": "stdout",
     "output_type": "stream",
     "text": [
      "the calculation was successful; c= 0.16666666666666666\n",
      "operation complete\n"
     ]
    }
   ],
   "source": [
    "a = 1\n",
    "\n",
    "try:\n",
    "    b = int(input(\"please enter a value for b:\"))\n",
    "    c = a/b\n",
    "except ZeroDivisionError: #the below user input is an example Zero Division Error\n",
    "    print(\"you cannot divide by zero\")\n",
    "except ValueError:\n",
    "    print(\"you did not provide a number\")\n",
    "except:\n",
    "    print(\"there was an error\")\n",
    "else:\n",
    "    print(\"the calculation was successful; c=\", c)\n",
    "finally:\n",
    "    print(\"operation complete\")"
   ]
  },
  {
   "cell_type": "code",
   "execution_count": 232,
   "id": "4a15abf2-eebe-45d9-bbf7-7760e2f10e7b",
   "metadata": {},
   "outputs": [
    {
     "name": "stdin",
     "output_type": "stream",
     "text": [
      "please enter a value for b: 0\n"
     ]
    },
    {
     "name": "stdout",
     "output_type": "stream",
     "text": [
      "there was an error division by zero\n"
     ]
    }
   ],
   "source": [
    "#Exception as e example \n",
    "\n",
    "a = 1\n",
    "\n",
    "try:\n",
    "    b = int(input(\"please enter a value for b:\"))\n",
    "    c = a/b\n",
    "    print (c)\n",
    "except Exception as e: #catch all for identifying the type of error\n",
    "    print(\"there was an error\", e)"
   ]
  },
  {
   "cell_type": "markdown",
   "id": "3baff308-4c0c-4e64-bf08-12fadfdbaf75",
   "metadata": {},
   "source": [
    "## Classes and Objects"
   ]
  },
  {
   "cell_type": "code",
   "execution_count": 289,
   "id": "44e50cc4-1ddd-4a43-9c2f-3d523b332e11",
   "metadata": {},
   "outputs": [],
   "source": [
    "class Car_Inventory:\n",
    "    max_speed = 120 #defines defualt attribute for all objects\n",
    "\n",
    "    def __init__(self, make, model, color, name, speed = 0): #inializes class and defines required attributes\n",
    "        self.make = make\n",
    "        self.model = model\n",
    "        self.color = color\n",
    "        self.name = name\n",
    "        self.speed = speed\n",
    "\n",
    "    def acceleration(self, acceleration): #Defining a method (ie a function wihtin a class)\n",
    "        if self.speed + acceleration <= Car_Inventory.max_speed:\n",
    "            self.speed += acceleration\n",
    "        else:\n",
    "            self.speed = Car_Inventory.max_speed\n",
    "\n",
    "    def get_speed(self):\n",
    "        return self.speed\n",
    "\n",
    "    def display_properties(self):\n",
    "        print (\"the properties of\", self.name, \"include:\")\n",
    "        print (\"Make:\", self.make)\n",
    "        print (\"Model:\", self.model)\n",
    "        print (\"color:\", self.color)\n",
    "            "
   ]
  },
  {
   "cell_type": "code",
   "execution_count": 291,
   "id": "ea0b845e-5220-4c3f-9fe8-5f3ca0128e87",
   "metadata": {},
   "outputs": [],
   "source": [
    "# add objects to the class\n",
    "\n",
    "car1 = Car_Inventory(\"Genesis\", \"GV60\", \"Red\", \"Car1\")\n",
    "car2 = Car_Inventory(\"Lincoln\", \"MKZ\", \"Grey\", \"Car2\")"
   ]
  },
  {
   "cell_type": "code",
   "execution_count": 293,
   "id": "77d39885-7d45-4003-b93b-770fa8ef29c7",
   "metadata": {},
   "outputs": [
    {
     "name": "stdout",
     "output_type": "stream",
     "text": [
      "the speed of car one is currently at 30 Km/h\n",
      "the speed of car one is currently at 20 km/h\n"
     ]
    }
   ],
   "source": [
    "#using the methods\n",
    "\n",
    "car1.acceleration(30)\n",
    "car2.acceleration(20)\n",
    "\n",
    "speed1 = car1.get_speed()\n",
    "speed2 = car2.get_speed()\n",
    "\n",
    "print(\"the speed of car one is currently at\", speed1, \"Km/h\")\n",
    "print (\"the speed of car one is currently at\", speed2, \"km/h\")"
   ]
  },
  {
   "cell_type": "code",
   "execution_count": 295,
   "id": "3fc73cd1-4007-435f-8985-2aa5f5a22cc5",
   "metadata": {},
   "outputs": [
    {
     "name": "stdout",
     "output_type": "stream",
     "text": [
      "the properties of Car1 include:\n",
      "Make: Genesis\n",
      "Model: GV60\n",
      "color: Red\n",
      "the properties of Car2 include:\n",
      "Make: Lincoln\n",
      "Model: MKZ\n",
      "color: Grey\n"
     ]
    }
   ],
   "source": [
    "car1.display_properties()\n",
    "car2.display_properties()"
   ]
  },
  {
   "cell_type": "code",
   "execution_count": null,
   "id": "6706ed58-6834-4fa5-bef5-7e4fa1416323",
   "metadata": {},
   "outputs": [],
   "source": []
  }
 ],
 "metadata": {
  "kernelspec": {
   "display_name": "Python 3 (ipykernel)",
   "language": "python",
   "name": "python3"
  },
  "language_info": {
   "codemirror_mode": {
    "name": "ipython",
    "version": 3
   },
   "file_extension": ".py",
   "mimetype": "text/x-python",
   "name": "python",
   "nbconvert_exporter": "python",
   "pygments_lexer": "ipython3",
   "version": "3.12.4"
  }
 },
 "nbformat": 4,
 "nbformat_minor": 5
}
