{
 "cells": [
  {
   "cell_type": "markdown",
   "id": "e48884ec-d5cc-45ac-a016-1452ad93fb3e",
   "metadata": {},
   "source": [
    "# Python Labs Duplicate - Module 2"
   ]
  },
  {
   "cell_type": "markdown",
   "id": "ab3877d3-6c54-4706-bb63-15dd590649ac",
   "metadata": {},
   "source": [
    "## Lists"
   ]
  },
  {
   "cell_type": "code",
   "execution_count": 260,
   "id": "80b8cd32-51f0-4fd0-a6ba-7aabdcb379da",
   "metadata": {},
   "outputs": [
    {
     "name": "stdout",
     "output_type": "stream",
     "text": [
      "['Michael Jackson', 10.1, 1982]\n",
      "<class 'list'>\n"
     ]
    }
   ],
   "source": [
    "# Create a list [ie uses brackets]\n",
    "\n",
    "L = [\"Michael Jackson\", 10.1, 1982]\n",
    "print(L)\n",
    "print(type (L))"
   ]
  },
  {
   "cell_type": "code",
   "execution_count": 262,
   "id": "601cee3d-7917-4e9a-85df-54c6f67c7ac0",
   "metadata": {},
   "outputs": [
    {
     "name": "stdout",
     "output_type": "stream",
     "text": [
      "Michael Jackson\n",
      "Michael Jackson\n"
     ]
    }
   ],
   "source": [
    "# Print element using positive indexing and negative indexing \n",
    "\n",
    "print (L[0]) #positive \n",
    "print (L[-3]) #negative "
   ]
  },
  {
   "cell_type": "code",
   "execution_count": 264,
   "id": "2c526d49-8a9b-4f00-bc39-12fc78b6bd5c",
   "metadata": {},
   "outputs": [
    {
     "name": "stdout",
     "output_type": "stream",
     "text": [
      "the same element using negative and positive indexing:\n",
      " Postive: Michael Jackson \n",
      " Negative: Michael Jackson\n"
     ]
    }
   ],
   "source": [
    "print('the same element using negative and positive indexing:\\n Postive:',L[0],\n",
    "'\\n Negative:' , L[-3]  ) # \\n for new line "
   ]
  },
  {
   "cell_type": "code",
   "execution_count": 266,
   "id": "3e7c91ae-2adc-45b5-aabd-612da3201b9f",
   "metadata": {},
   "outputs": [
    {
     "data": {
      "text/plain": [
       "[10.1, 1982]"
      ]
     },
     "execution_count": 266,
     "metadata": {},
     "output_type": "execute_result"
    }
   ],
   "source": [
    "# example of slicing \n",
    "\n",
    "L[1:3]"
   ]
  },
  {
   "cell_type": "code",
   "execution_count": 268,
   "id": "2ff5d850-a629-4861-af93-282d775b592f",
   "metadata": {},
   "outputs": [
    {
     "data": {
      "text/plain": [
       "['Michael Jackson', 10.1, 1982, 'pop', 10]"
      ]
     },
     "execution_count": 268,
     "metadata": {},
     "output_type": "execute_result"
    }
   ],
   "source": [
    "# example of extend - adds multiple elements\n",
    "\n",
    "L.extend(['pop', 10])\n",
    "L"
   ]
  },
  {
   "cell_type": "code",
   "execution_count": 270,
   "id": "7e674995-5587-4dae-b2e8-08a358cd0571",
   "metadata": {},
   "outputs": [
    {
     "data": {
      "text/plain": [
       "['Michael Jackson', 10.1, 1982, 'pop', 10, ['a', 'b']]"
      ]
     },
     "execution_count": 270,
     "metadata": {},
     "output_type": "execute_result"
    }
   ],
   "source": [
    "# example of append - adds one element using nesting \n",
    "\n",
    "L.append (['a','b'])\n",
    "L"
   ]
  },
  {
   "cell_type": "code",
   "execution_count": 272,
   "id": "cf5fdc6e-1da8-4aea-a2d2-eb51e5e9c68c",
   "metadata": {},
   "outputs": [
    {
     "data": {
      "text/plain": [
       "['Michael Jackson', 10.1, 1982, 'pop', 10, ['a', 'b'], ['a', 'b'], 'pop', 10]"
      ]
     },
     "execution_count": 272,
     "metadata": {},
     "output_type": "execute_result"
    }
   ],
   "source": [
    "# Command runs based on last indexed list - list can have reqeating elements \n",
    "\n",
    "L.append (['a','b'])\n",
    "L.extend(['pop', 10])\n",
    "L"
   ]
  },
  {
   "cell_type": "code",
   "execution_count": 274,
   "id": "82068501-c90c-4c73-ae15-efe024cbf00a",
   "metadata": {},
   "outputs": [
    {
     "name": "stdout",
     "output_type": "stream",
     "text": [
      "Before change: ['Michael Jackson', 10.1, 1982, 'pop', 10, ['a', 'b'], ['a', 'b'], 'pop', 10]\n",
      "After change: ['hard rock', 10.1, 1982, 'pop', 10, ['a', 'b'], ['a', 'b'], 'pop', 10]\n"
     ]
    }
   ],
   "source": [
    "# Change the element based on the index\n",
    "\n",
    "print('Before change:', L)\n",
    "L[0] = 'hard rock'\n",
    "print('After change:', L)"
   ]
  },
  {
   "cell_type": "code",
   "execution_count": 276,
   "id": "50e7a0f4-1194-402b-bb05-915baa0cf87a",
   "metadata": {},
   "outputs": [
    {
     "data": {
      "text/plain": [
       "['hard rock', 10.1, 1982, 'pop', 10, ['a', 'b'], ['a', 'b'], 'pop', 10]"
      ]
     },
     "execution_count": 276,
     "metadata": {},
     "output_type": "execute_result"
    }
   ],
   "source": [
    "# confirmation of change\n",
    "\n",
    "L"
   ]
  },
  {
   "cell_type": "code",
   "execution_count": 278,
   "id": "cd78237b-bd49-4ff6-b0c1-af2b36f5d3e7",
   "metadata": {},
   "outputs": [
    {
     "name": "stdout",
     "output_type": "stream",
     "text": [
      "Before change: ['hard rock', 10.1, 1982, 'pop', 10, ['a', 'b'], ['a', 'b'], 'pop', 10]\n",
      "After change: ['hard rock', 10.1, 1982, 'pop', 10, ['a', 'b'], 'pop', 10]\n"
     ]
    }
   ],
   "source": [
    "# Delete the element based on the index\n",
    "\n",
    "print('Before change:', L)\n",
    "del(L[6])\n",
    "print('After change:', L)"
   ]
  },
  {
   "cell_type": "code",
   "execution_count": 280,
   "id": "0677d602-b828-47c2-ba59-fde8160f02e6",
   "metadata": {},
   "outputs": [
    {
     "data": {
      "text/plain": [
       "['hard rock', 10.1, 1982, 'pop', 10, ['a', 'b'], 'pop', 10]"
      ]
     },
     "execution_count": 280,
     "metadata": {},
     "output_type": "execute_result"
    }
   ],
   "source": [
    "# confirmation of change\n",
    "\n",
    "L"
   ]
  },
  {
   "cell_type": "code",
   "execution_count": 282,
   "id": "fd5236d8-6fa4-429b-a45b-4672008f9a80",
   "metadata": {},
   "outputs": [
    {
     "data": {
      "text/plain": [
       "['hard', 'rock']"
      ]
     },
     "execution_count": 282,
     "metadata": {},
     "output_type": "execute_result"
    }
   ],
   "source": [
    "# Split/convert a string into a list - defualts split to where there are spaces\n",
    "\n",
    "'hard rock'.split()"
   ]
  },
  {
   "cell_type": "code",
   "execution_count": 284,
   "id": "26e31894-7513-47d4-bf67-c12f67873aed",
   "metadata": {},
   "outputs": [
    {
     "data": {
      "text/plain": [
       "['Hard day', ' rock']"
      ]
     },
     "execution_count": 284,
     "metadata": {},
     "output_type": "execute_result"
    }
   ],
   "source": [
    "# specify the delimiter for where the string should be split\n",
    "\n",
    "'Hard day; rock'.split(';')"
   ]
  },
  {
   "cell_type": "markdown",
   "id": "02c60669-b0b3-4804-9728-8f9c6c040fca",
   "metadata": {},
   "source": [
    "#### Copies vs. Clones"
   ]
  },
  {
   "cell_type": "code",
   "execution_count": 287,
   "id": "22d530b9-1f6f-4735-a4ee-6be79431a360",
   "metadata": {},
   "outputs": [
    {
     "name": "stdout",
     "output_type": "stream",
     "text": [
      "['hard rock', 10.1, 1982, 'pop', 10, ['a', 'b'], 'pop', 10]\n"
     ]
    }
   ],
   "source": [
    "# copy a list \n",
    "\n",
    "A = L\n",
    "print (A)"
   ]
  },
  {
   "cell_type": "code",
   "execution_count": 289,
   "id": "05208e21-7e39-49e7-8462-78b53d680a27",
   "metadata": {},
   "outputs": [
    {
     "name": "stdout",
     "output_type": "stream",
     "text": [
      "['banana', 10.1, 1982, 'pop', 10, ['a', 'b'], 'pop', 10]\n"
     ]
    }
   ],
   "source": [
    "# Changing A results in a change in L\n",
    "\n",
    "A[0] = \"banana\"\n",
    "print (L) "
   ]
  },
  {
   "cell_type": "code",
   "execution_count": 291,
   "id": "ed1d8982-cc44-4605-a576-0eaded63cb8d",
   "metadata": {},
   "outputs": [
    {
     "name": "stdout",
     "output_type": "stream",
     "text": [
      "['banana', 10.1, 1982, 'pop', 10, ['a', 'b'], 'pop', 10]\n"
     ]
    }
   ],
   "source": [
    "# Clone the list\n",
    "\n",
    "B = A[:]\n",
    "print (B)"
   ]
  },
  {
   "cell_type": "code",
   "execution_count": 293,
   "id": "e85a07cc-a872-4fa2-a8ec-7b6db1e62ed2",
   "metadata": {},
   "outputs": [
    {
     "name": "stdout",
     "output_type": "stream",
     "text": [
      "original list ['hard rock', 10.1, 1982, 'pop', 10, ['a', 'b'], 'pop', 10]\n",
      "copied list ['hard rock', 10.1, 1982, 'pop', 10, ['a', 'b'], 'pop', 10]\n",
      "cloned list ['banana', 10.1, 1982, 'pop', 10, ['a', 'b'], 'pop', 10]\n"
     ]
    }
   ],
   "source": [
    "# Clone are not affected by changes to original list\n",
    "\n",
    "A[0] = \"hard rock\"\n",
    "print (\"original list\", L) \n",
    "print (\"copied list\" , A)\n",
    "print (\"cloned list\" , B)"
   ]
  },
  {
   "cell_type": "markdown",
   "id": "15dbe48d-5bbc-4a6e-a137-a1ff25d868f9",
   "metadata": {},
   "source": [
    "## Tuples"
   ]
  },
  {
   "cell_type": "code",
   "execution_count": 296,
   "id": "87c7e320-f00c-4da0-b3c5-fa4267ad2d0a",
   "metadata": {},
   "outputs": [
    {
     "data": {
      "text/plain": [
       "('disco', 10, 1.2)"
      ]
     },
     "execution_count": 296,
     "metadata": {},
     "output_type": "execute_result"
    }
   ],
   "source": [
    "# Create tuple (ie uses parenthesis)\n",
    "\n",
    "tuple1 = (\"disco\",10,1.2 )\n",
    "tuple1"
   ]
  },
  {
   "cell_type": "code",
   "execution_count": 298,
   "id": "ced33b39-d3ea-490b-a509-d78555577ee7",
   "metadata": {},
   "outputs": [
    {
     "name": "stdout",
     "output_type": "stream",
     "text": [
      "disco\n",
      "10\n",
      "1.2\n"
     ]
    }
   ],
   "source": [
    "# Indexing to print elements\n",
    "\n",
    "print(tuple1[0])\n",
    "print(tuple1[1])\n",
    "print(tuple1[2])"
   ]
  },
  {
   "cell_type": "code",
   "execution_count": 300,
   "id": "6d4d19d1-ff1c-447e-a403-3d0b8196060c",
   "metadata": {},
   "outputs": [
    {
     "name": "stdout",
     "output_type": "stream",
     "text": [
      "1.2\n",
      "10\n",
      "disco\n"
     ]
    }
   ],
   "source": [
    "# Using Negative Indexing \n",
    "\n",
    "print(tuple1[-1]) # starts with last element \n",
    "print(tuple1[-2])\n",
    "print(tuple1[-3])"
   ]
  },
  {
   "cell_type": "code",
   "execution_count": 302,
   "id": "605ff6b7-6edd-4e46-8dd1-7a957a3880d0",
   "metadata": {},
   "outputs": [
    {
     "name": "stdout",
     "output_type": "stream",
     "text": [
      "<class 'str'>\n",
      "<class 'int'>\n",
      "<class 'float'>\n"
     ]
    }
   ],
   "source": [
    "# Print the type of each element\n",
    "\n",
    "print(type(tuple1[0]))\n",
    "print(type(tuple1[1]))\n",
    "print(type(tuple1[2]))"
   ]
  },
  {
   "cell_type": "code",
   "execution_count": 304,
   "id": "57457563-afe2-4a92-afb3-007cde6e1942",
   "metadata": {},
   "outputs": [
    {
     "data": {
      "text/plain": [
       "('disco', 10, 1.2, 'hard rock', 10)"
      ]
     },
     "execution_count": 304,
     "metadata": {},
     "output_type": "execute_result"
    }
   ],
   "source": [
    "# Concatenate two tuples\n",
    "\n",
    "tuple2 = tuple1 + (\"hard rock\", 10)\n",
    "tuple2"
   ]
  },
  {
   "cell_type": "code",
   "execution_count": 306,
   "id": "5b25f99d-0827-4724-927e-14d60a0f59d1",
   "metadata": {},
   "outputs": [
    {
     "data": {
      "text/plain": [
       "('disco', 10, 1.2)"
      ]
     },
     "execution_count": 306,
     "metadata": {},
     "output_type": "execute_result"
    }
   ],
   "source": [
    "# Slice example of concatnated tuple\n",
    "\n",
    "tuple2[0:3]"
   ]
  },
  {
   "cell_type": "code",
   "execution_count": 308,
   "id": "94452ae7-9534-4183-a73e-3f826c066c60",
   "metadata": {},
   "outputs": [
    {
     "name": "stdout",
     "output_type": "stream",
     "text": [
      "5\n",
      "3\n"
     ]
    }
   ],
   "source": [
    "# Get the length of tuple\n",
    "\n",
    "print (len(tuple2))\n",
    "print (len(tuple1))"
   ]
  },
  {
   "cell_type": "code",
   "execution_count": 310,
   "id": "729a42eb-b063-44f8-9bd5-2ca86afc823e",
   "metadata": {},
   "outputs": [
    {
     "ename": "TypeError",
     "evalue": "'<' not supported between instances of 'int' and 'str'",
     "output_type": "error",
     "traceback": [
      "\u001b[0;31m---------------------------------------------------------------------------\u001b[0m",
      "\u001b[0;31mTypeError\u001b[0m                                 Traceback (most recent call last)",
      "Cell \u001b[0;32mIn[310], line 3\u001b[0m\n\u001b[1;32m      1\u001b[0m \u001b[38;5;66;03m# sorted tuple only works for int or float elements \u001b[39;00m\n\u001b[0;32m----> 3\u001b[0m Sorted \u001b[38;5;241m=\u001b[39m \u001b[38;5;28msorted\u001b[39m(tuple2)\n",
      "\u001b[0;31mTypeError\u001b[0m: '<' not supported between instances of 'int' and 'str'"
     ]
    }
   ],
   "source": [
    "# sorted tuple only works for int or float elements \n",
    "\n",
    "Sorted = sorted(tuple2)"
   ]
  },
  {
   "cell_type": "code",
   "execution_count": 312,
   "id": "f5d222bb-e369-4d8f-8c37-c69b05c0fa6a",
   "metadata": {},
   "outputs": [
    {
     "name": "stdout",
     "output_type": "stream",
     "text": [
      "[3, 5, 6.2, 7.5, 8, 10]\n"
     ]
    }
   ],
   "source": [
    "Ratings = (10, 5, 6.2, 7.5, 3, 8)\n",
    "Sortedratings = sorted(Ratings)\n",
    "print (Sortedratings)"
   ]
  },
  {
   "cell_type": "code",
   "execution_count": 314,
   "id": "b3c5f028-4339-45b5-b5da-c3921173a627",
   "metadata": {},
   "outputs": [
    {
     "name": "stdout",
     "output_type": "stream",
     "text": [
      "pop\n",
      "1\n"
     ]
    }
   ],
   "source": [
    "# Nested Tuples \n",
    "\n",
    "NestedT =(1, 2, (\"pop\", \"rock\") ,(3,4),(\"disco\",(1,2)))\n",
    "print (NestedT[2][0])\n",
    "print (NestedT [4][1][0])"
   ]
  },
  {
   "cell_type": "markdown",
   "id": "17ab3221-9855-4e55-bc7b-709f94ba93a1",
   "metadata": {},
   "source": [
    "## Dictionaries "
   ]
  },
  {
   "cell_type": "code",
   "execution_count": 317,
   "id": "9ac29385-8ea1-4e61-a520-6213031d04d3",
   "metadata": {},
   "outputs": [
    {
     "data": {
      "text/plain": [
       "{'key1': 1,\n",
       " 'key2': '2',\n",
       " 'key3': [3, 3, 3],\n",
       " 'key4': (4, 4, 4),\n",
       " 'key5': 5,\n",
       " (0, 1): 6}"
      ]
     },
     "execution_count": 317,
     "metadata": {},
     "output_type": "execute_result"
    }
   ],
   "source": [
    "# Create the dictionary by identifying the keys and values\n",
    "\n",
    "Dict = {\"key1\": 1, \"key2\": \"2\", \"key3\": [3, 3, 3], \"key4\": (4, 4, 4), ('key5'): 5, (0, 1): 6}\n",
    "Dict"
   ]
  },
  {
   "cell_type": "code",
   "execution_count": 319,
   "id": "e5bf316d-854c-4841-9f1f-5192e2be3216",
   "metadata": {},
   "outputs": [
    {
     "name": "stdout",
     "output_type": "stream",
     "text": [
      "1\n",
      "6\n"
     ]
    }
   ],
   "source": [
    "# Access to the value by the key\n",
    "\n",
    "print (Dict[\"key1\"])\n",
    "print (Dict[(0, 1)])"
   ]
  },
  {
   "cell_type": "code",
   "execution_count": 321,
   "id": "123e008d-f925-443b-9b20-653d2ae555e9",
   "metadata": {},
   "outputs": [
    {
     "data": {
      "text/plain": [
       "dict_keys(['key1', 'key2', 'key3', 'key4', 'key5', (0, 1)])"
      ]
     },
     "execution_count": 321,
     "metadata": {},
     "output_type": "execute_result"
    }
   ],
   "source": [
    "# Get all the keys in dictionary\n",
    "\n",
    "Dict.keys() "
   ]
  },
  {
   "cell_type": "code",
   "execution_count": 323,
   "id": "c94b6f1c-af2d-43ac-ba55-e55a0e2c1dd4",
   "metadata": {},
   "outputs": [
    {
     "data": {
      "text/plain": [
       "dict_values([1, '2', [3, 3, 3], (4, 4, 4), 5, 6])"
      ]
     },
     "execution_count": 323,
     "metadata": {},
     "output_type": "execute_result"
    }
   ],
   "source": [
    "# Get all the values in dictionary\n",
    "\n",
    "Dict.values() "
   ]
  },
  {
   "cell_type": "code",
   "execution_count": 325,
   "id": "5ddbd95d-27b0-4294-aadf-1c53e0fdc71e",
   "metadata": {},
   "outputs": [
    {
     "data": {
      "text/plain": [
       "{'key1': 1,\n",
       " 'key2': '2',\n",
       " 'key3': [3, 3, 3],\n",
       " 'key4': (4, 4, 4),\n",
       " 'key5': 5,\n",
       " (0, 1): 6,\n",
       " 'Graduation': '2007'}"
      ]
     },
     "execution_count": 325,
     "metadata": {},
     "output_type": "execute_result"
    }
   ],
   "source": [
    "# Add an entry to the dictionary \n",
    "\n",
    "Dict['Graduation'] = '2007'\n",
    "Dict"
   ]
  },
  {
   "cell_type": "code",
   "execution_count": 327,
   "id": "6a3515b8-743c-4974-abe5-f5bcc60ca7ca",
   "metadata": {},
   "outputs": [
    {
     "data": {
      "text/plain": [
       "{'key1': 1,\n",
       " 'key2': '2',\n",
       " 'key3': [3, 3, 3],\n",
       " 'key4': (4, 4, 4),\n",
       " 'key5': 5,\n",
       " (0, 1): 6}"
      ]
     },
     "execution_count": 327,
     "metadata": {},
     "output_type": "execute_result"
    }
   ],
   "source": [
    "# Delete entries by key\n",
    "\n",
    "del(Dict['Graduation'])\n",
    "Dict"
   ]
  },
  {
   "cell_type": "code",
   "execution_count": 329,
   "id": "a329d4ff-1697-42bc-95c6-49440812111b",
   "metadata": {},
   "outputs": [
    {
     "data": {
      "text/plain": [
       "True"
      ]
     },
     "execution_count": 329,
     "metadata": {},
     "output_type": "execute_result"
    }
   ],
   "source": [
    "# Verify the key is in the dictionary\n",
    "\n",
    "'key1' in Dict"
   ]
  },
  {
   "cell_type": "markdown",
   "id": "c7468427-2d12-429d-80b1-7cf2a8899f64",
   "metadata": {},
   "source": [
    "#### Practice senario #"
   ]
  },
  {
   "cell_type": "code",
   "execution_count": 332,
   "id": "fcba7ecb-75d5-4344-b598-6e2dd919c530",
   "metadata": {},
   "outputs": [
    {
     "data": {
      "text/plain": [
       "dict"
      ]
     },
     "execution_count": 332,
     "metadata": {},
     "output_type": "execute_result"
    }
   ],
   "source": [
    "# Create empty dictionary \n",
    "\n",
    "Practice_dict = {}\n",
    "type (Practice_dict)"
   ]
  },
  {
   "cell_type": "code",
   "execution_count": 334,
   "id": "50e9fbbf-a80e-444d-a17e-777335b38a8f",
   "metadata": {},
   "outputs": [],
   "source": [
    "# create variablesname as reference point for data (ie inventory for store products)\n",
    "\n",
    "ProductNo1 = \"Mobile Phone\"\n",
    "ProductNo1_quantity = 5\n",
    "ProductNo1_price = 20000\n",
    "ProductNo1_releaseYear = 2020"
   ]
  },
  {
   "cell_type": "code",
   "execution_count": 336,
   "id": "6aec65ae-ad42-4be3-a80e-862744b98879",
   "metadata": {},
   "outputs": [
    {
     "data": {
      "text/plain": [
       "{'ProductNo1': 'Mobile Phone',\n",
       " 'ProductNo1_quantity': 5,\n",
       " 'ProductNo1_price': 20000,\n",
       " 'ProductNo1_releaseYear': 2020}"
      ]
     },
     "execution_count": 336,
     "metadata": {},
     "output_type": "execute_result"
    }
   ],
   "source": [
    "# add details to inventory dictionary using add method (ie dictionary[key] = value)\n",
    "\n",
    "Practice_dict[\"ProductNo1\"] = ProductNo1\n",
    "Practice_dict[\"ProductNo1_quantity\"] = ProductNo1_quantity\n",
    "Practice_dict[\"ProductNo1_price\"] = ProductNo1_price\n",
    "Practice_dict[\"ProductNo1_releaseYear\"] = ProductNo1_releaseYear\n",
    "\n",
    "Practice_dict"
   ]
  },
  {
   "cell_type": "code",
   "execution_count": 338,
   "id": "b6ec1671-a41e-459d-8492-24265dba17fb",
   "metadata": {},
   "outputs": [
    {
     "data": {
      "text/plain": [
       "{'ProductNo1': 'Mobile Phone',\n",
       " 'ProductNo1_quantity': 5,\n",
       " 'ProductNo1_price': 20000,\n",
       " 'ProductNo1_releaseYear': 2020,\n",
       " 'ProductNo2': 'Laptop',\n",
       " 'ProductNo2_quantity': 10,\n",
       " 'ProductNo2_price': 50000,\n",
       " 'ProductNo2_releaseyear': 2023}"
      ]
     },
     "execution_count": 338,
     "metadata": {},
     "output_type": "execute_result"
    }
   ],
   "source": [
    "# same procedure for second product \n",
    "\n",
    "ProductNo2 = 'Laptop'\n",
    "ProductNo2_quantity = 10\n",
    "ProductNo2_price = 50000\n",
    "ProductNo2_releaseyear = 2023\n",
    "\n",
    "Practice_dict[\"ProductNo2\"] = ProductNo2\n",
    "Practice_dict[\"ProductNo2_quantity\"] = ProductNo2_quantity\n",
    "Practice_dict[\"ProductNo2_price\"] = ProductNo2_price\n",
    "Practice_dict[\"ProductNo2_releaseyear\"] = ProductNo2_releaseyear\n",
    "\n",
    "Practice_dict"
   ]
  },
  {
   "cell_type": "markdown",
   "id": "9ffa7857-c828-4df6-acb9-5a7615e60f85",
   "metadata": {},
   "source": [
    "## Sets"
   ]
  },
  {
   "cell_type": "code",
   "execution_count": 341,
   "id": "4012335c-0bdb-416b-9124-7dff643f71a0",
   "metadata": {},
   "outputs": [
    {
     "data": {
      "text/plain": [
       "{'R&B', 'disco', 'hard rock', 'pop', 'rock', 'soul'}"
      ]
     },
     "execution_count": 341,
     "metadata": {},
     "output_type": "execute_result"
    }
   ],
   "source": [
    "# Create a set (ie uses curly brackets)\n",
    "\n",
    "set1 = {\"pop\", \"rock\", \"soul\", \"hard rock\", \"rock\", \"R&B\", \"rock\", \"disco\"}\n",
    "set1 # automatically removes duplicates "
   ]
  },
  {
   "cell_type": "code",
   "execution_count": 343,
   "id": "4be7a37b-0323-46f7-8eba-91b03ab4ece3",
   "metadata": {},
   "outputs": [
    {
     "name": "stdout",
     "output_type": "stream",
     "text": [
      "['hard rock', 10.1, 1982, 'pop', 10, ['a', 'b'], 'pop', 10]\n"
     ]
    },
    {
     "ename": "TypeError",
     "evalue": "unhashable type: 'list'",
     "output_type": "error",
     "traceback": [
      "\u001b[0;31m---------------------------------------------------------------------------\u001b[0m",
      "\u001b[0;31mTypeError\u001b[0m                                 Traceback (most recent call last)",
      "Cell \u001b[0;32mIn[343], line 4\u001b[0m\n\u001b[1;32m      1\u001b[0m \u001b[38;5;66;03m# convert list to set \u001b[39;00m\n\u001b[1;32m      3\u001b[0m \u001b[38;5;28mprint\u001b[39m (L)\n\u001b[0;32m----> 4\u001b[0m set2 \u001b[38;5;241m=\u001b[39m \u001b[38;5;28mset\u001b[39m(L) \n\u001b[1;32m      5\u001b[0m \u001b[38;5;28mprint\u001b[39m (set2)\n",
      "\u001b[0;31mTypeError\u001b[0m: unhashable type: 'list'"
     ]
    }
   ],
   "source": [
    "# convert list to set \n",
    "\n",
    "print (L)\n",
    "set2 = set(L) \n",
    "print (set2)"
   ]
  },
  {
   "cell_type": "code",
   "execution_count": 345,
   "id": "65abf04b-b1fa-4160-ae3d-369d939c86b0",
   "metadata": {},
   "outputs": [
    {
     "data": {
      "text/plain": [
       "['hard rock', 10.1, 1982, 'pop', 10, 'pop', 10]"
      ]
     },
     "execution_count": 345,
     "metadata": {},
     "output_type": "execute_result"
    }
   ],
   "source": [
    "del(L[5])\n",
    "L"
   ]
  },
  {
   "cell_type": "code",
   "execution_count": 347,
   "id": "08b2fd95-15e6-4548-9373-4fe9284ed682",
   "metadata": {},
   "outputs": [
    {
     "data": {
      "text/plain": [
       "{10, 10.1, 1982, 'hard rock', 'pop'}"
      ]
     },
     "execution_count": 347,
     "metadata": {},
     "output_type": "execute_result"
    }
   ],
   "source": [
    "set2 = set(L) \n",
    "set2"
   ]
  },
  {
   "cell_type": "code",
   "execution_count": 349,
   "id": "380fa841-6640-47a2-a811-722001c0de5a",
   "metadata": {},
   "outputs": [
    {
     "data": {
      "text/plain": [
       "{10, 10.1, 1982, 'hard rock', 'music', 'pop'}"
      ]
     },
     "execution_count": 349,
     "metadata": {},
     "output_type": "execute_result"
    }
   ],
   "source": [
    "# add element to set\n",
    "\n",
    "set2.add('music')\n",
    "set2"
   ]
  },
  {
   "cell_type": "code",
   "execution_count": 351,
   "id": "caaef912-dea5-4299-a54e-1c11ffde1235",
   "metadata": {},
   "outputs": [
    {
     "data": {
      "text/plain": [
       "{10, 10.1, 1982, 'hard rock', 'music', 'pop'}"
      ]
     },
     "execution_count": 351,
     "metadata": {},
     "output_type": "execute_result"
    }
   ],
   "source": [
    "# adding duplicate results in no changes\n",
    "\n",
    "set2.add('music')\n",
    "set2"
   ]
  },
  {
   "cell_type": "code",
   "execution_count": 353,
   "id": "d1211694-b811-4a4c-a187-7eacb7a8c61e",
   "metadata": {},
   "outputs": [
    {
     "data": {
      "text/plain": [
       "{10, 10.1, 1982, 'music', 'pop'}"
      ]
     },
     "execution_count": 353,
     "metadata": {},
     "output_type": "execute_result"
    }
   ],
   "source": [
    "# remove element from set\n",
    "\n",
    "set2.remove('hard rock')\n",
    "set2"
   ]
  },
  {
   "cell_type": "code",
   "execution_count": 355,
   "id": "85a0ded2-21a5-4553-b193-5b0cc7ad4357",
   "metadata": {},
   "outputs": [
    {
     "data": {
      "text/plain": [
       "True"
      ]
     },
     "execution_count": 355,
     "metadata": {},
     "output_type": "execute_result"
    }
   ],
   "source": [
    "# verify if element is in set\n",
    "\n",
    "10 in set2"
   ]
  },
  {
   "cell_type": "code",
   "execution_count": 357,
   "id": "37f3045b-2d61-45e6-b21f-279c075ad816",
   "metadata": {},
   "outputs": [
    {
     "data": {
      "text/plain": [
       "{'pop'}"
      ]
     },
     "execution_count": 357,
     "metadata": {},
     "output_type": "execute_result"
    }
   ],
   "source": [
    "# find an intersection between sets\n",
    "\n",
    "intersection = set1 & set2\n",
    "intersection"
   ]
  },
  {
   "cell_type": "code",
   "execution_count": 365,
   "id": "297e38ba-2a47-42c6-ba3f-e1ad6ffc4bbc",
   "metadata": {},
   "outputs": [
    {
     "data": {
      "text/plain": [
       "{'pop'}"
      ]
     },
     "execution_count": 365,
     "metadata": {},
     "output_type": "execute_result"
    }
   ],
   "source": [
    "set1.intersection(set2)"
   ]
  },
  {
   "cell_type": "code",
   "execution_count": 361,
   "id": "88883be3-6caa-40b7-8c03-d4e372064700",
   "metadata": {},
   "outputs": [
    {
     "name": "stdout",
     "output_type": "stream",
     "text": [
      "{'rock', 'hard rock', 'soul', 'disco', 'R&B'}\n",
      "{'music', 10.1, 10, 1982}\n"
     ]
    }
   ],
   "source": [
    "# find the difference \n",
    "\n",
    "print (set1.difference(set2))\n",
    "print (set2.difference(set1))"
   ]
  },
  {
   "cell_type": "code",
   "execution_count": 367,
   "id": "7d6d9866-7b9e-4c94-aa5a-1c5d868e8899",
   "metadata": {},
   "outputs": [
    {
     "data": {
      "text/plain": [
       "{10, 10.1, 1982, 'R&B', 'disco', 'hard rock', 'music', 'pop', 'rock', 'soul'}"
      ]
     },
     "execution_count": 367,
     "metadata": {},
     "output_type": "execute_result"
    }
   ],
   "source": [
    "# unify two sets\n",
    "\n",
    "set1.union(set2)"
   ]
  },
  {
   "cell_type": "code",
   "execution_count": 371,
   "id": "951d7654-a442-460b-9b4d-b5d8fb495765",
   "metadata": {},
   "outputs": [
    {
     "data": {
      "text/plain": [
       "True"
      ]
     },
     "execution_count": 371,
     "metadata": {},
     "output_type": "execute_result"
    }
   ],
   "source": [
    "# check if superset\n",
    "\n",
    "set(set1).issuperset({'pop', 'rock'})"
   ]
  },
  {
   "cell_type": "code",
   "execution_count": 375,
   "id": "eafb80ae-2f37-47c0-9cc6-d7e066dbffaa",
   "metadata": {},
   "outputs": [
    {
     "data": {
      "text/plain": [
       "True"
      ]
     },
     "execution_count": 375,
     "metadata": {},
     "output_type": "execute_result"
    }
   ],
   "source": [
    "# check if subset\n",
    "\n",
    "set({'pop' , 'rock'}).issubset(set1)"
   ]
  },
  {
   "cell_type": "code",
   "execution_count": 377,
   "id": "acfce050-5a54-41e0-b5b3-2d074eeca7d3",
   "metadata": {},
   "outputs": [
    {
     "data": {
      "text/plain": [
       "False"
      ]
     },
     "execution_count": 377,
     "metadata": {},
     "output_type": "execute_result"
    }
   ],
   "source": [
    "set(set1).issubset(set2)"
   ]
  },
  {
   "cell_type": "code",
   "execution_count": null,
   "id": "2f286f68-36a0-4907-b96c-df991fadd434",
   "metadata": {},
   "outputs": [],
   "source": []
  }
 ],
 "metadata": {
  "kernelspec": {
   "display_name": "Python 3 (ipykernel)",
   "language": "python",
   "name": "python3"
  },
  "language_info": {
   "codemirror_mode": {
    "name": "ipython",
    "version": 3
   },
   "file_extension": ".py",
   "mimetype": "text/x-python",
   "name": "python",
   "nbconvert_exporter": "python",
   "pygments_lexer": "ipython3",
   "version": "3.12.4"
  }
 },
 "nbformat": 4,
 "nbformat_minor": 5
}
