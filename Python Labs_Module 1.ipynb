{
 "cells": [
  {
   "cell_type": "markdown",
   "id": "fc41c3ac-5709-4794-b8e5-365852aff45a",
   "metadata": {},
   "source": [
    "# Local Test of Python Lab: Module 1"
   ]
  },
  {
   "cell_type": "markdown",
   "id": "f43c32af-a0c1-4f76-9320-b1602baa83ef",
   "metadata": {},
   "source": [
    "This is a duplicate of the lab instructions from Coursera's Python for Data Science Course "
   ]
  },
  {
   "cell_type": "code",
   "execution_count": 5,
   "id": "ceaf4bec-209f-4744-b5cc-9a241587790e",
   "metadata": {},
   "outputs": [
    {
     "name": "stdout",
     "output_type": "stream",
     "text": [
      "Hello World!\n"
     ]
    }
   ],
   "source": [
    "# first python program \n",
    "\n",
    "print (\"Hello World!\")"
   ]
  },
  {
   "cell_type": "code",
   "execution_count": 7,
   "id": "830c89bd-565c-4f15-8a0b-96d1a1163e83",
   "metadata": {},
   "outputs": [
    {
     "name": "stdout",
     "output_type": "stream",
     "text": [
      "3.12.4 | packaged by Anaconda, Inc. | (main, Jun 18 2024, 10:07:17) [Clang 14.0.6 ]\n"
     ]
    }
   ],
   "source": [
    "# check python version \n",
    "\n",
    "import sys\n",
    "print (sys.version)"
   ]
  },
  {
   "cell_type": "code",
   "execution_count": 9,
   "id": "aeb0d9e8-a8cb-495e-b353-e320b54ad066",
   "metadata": {},
   "outputs": [
    {
     "name": "stdout",
     "output_type": "stream",
     "text": [
      "27\n"
     ]
    }
   ],
   "source": [
    "# arithmetic \n",
    "\n",
    "x = 10\n",
    "y = 17\n",
    "z = x + y \n",
    "print (z)"
   ]
  },
  {
   "cell_type": "markdown",
   "id": "9d3ade4b-618a-4125-923c-724ea1a2f16e",
   "metadata": {},
   "source": [
    "## Types within Python"
   ]
  },
  {
   "cell_type": "code",
   "execution_count": 3,
   "id": "9495a996-d373-4696-9de1-d0ca5afee4c3",
   "metadata": {},
   "outputs": [
    {
     "data": {
      "text/plain": [
       "int"
      ]
     },
     "execution_count": 3,
     "metadata": {},
     "output_type": "execute_result"
    }
   ],
   "source": [
    "# Whole numbers are integers (int) \n",
    "\n",
    "type (12)"
   ]
  },
  {
   "cell_type": "code",
   "execution_count": 5,
   "id": "1a6a9e37-a5d3-45e1-a7e2-d7f10ea1abf0",
   "metadata": {},
   "outputs": [
    {
     "data": {
      "text/plain": [
       "float"
      ]
     },
     "execution_count": 5,
     "metadata": {},
     "output_type": "execute_result"
    }
   ],
   "source": [
    "# Decimals are floats\n",
    "\n",
    "type (3.12) "
   ]
  },
  {
   "cell_type": "code",
   "execution_count": 7,
   "id": "1257aa89-fb99-4360-8f14-01f6788c5f70",
   "metadata": {},
   "outputs": [
    {
     "data": {
      "text/plain": [
       "str"
      ]
     },
     "execution_count": 7,
     "metadata": {},
     "output_type": "execute_result"
    }
   ],
   "source": [
    "# Words are strings (str) \n",
    "\n",
    "type (\"Hello\") "
   ]
  },
  {
   "cell_type": "code",
   "execution_count": 9,
   "id": "6437cd2e-8f53-4cba-b2bb-a27196d7bf0d",
   "metadata": {},
   "outputs": [
    {
     "data": {
      "text/plain": [
       "sys.float_info(max=1.7976931348623157e+308, max_exp=1024, max_10_exp=308, min=2.2250738585072014e-308, min_exp=-1021, min_10_exp=-307, dig=15, mant_dig=53, epsilon=2.220446049250313e-16, radix=2, rounds=1)"
      ]
     },
     "execution_count": 9,
     "metadata": {},
     "output_type": "execute_result"
    }
   ],
   "source": [
    "# Checking the speciifcs of floats for runtime envrionment \n",
    "\n",
    "import sys\n",
    "sys.float_info"
   ]
  },
  {
   "cell_type": "code",
   "execution_count": 11,
   "id": "93f3a45e-42ae-475c-9749-53a6437eaebe",
   "metadata": {},
   "outputs": [
    {
     "data": {
      "text/plain": [
       "2.0"
      ]
     },
     "execution_count": 11,
     "metadata": {},
     "output_type": "execute_result"
    }
   ],
   "source": [
    "# converting an int to a float \n",
    "\n",
    "float (2) "
   ]
  },
  {
   "cell_type": "code",
   "execution_count": 13,
   "id": "7d65fbd9-bbc0-41c3-a44c-09cea738915b",
   "metadata": {},
   "outputs": [
    {
     "data": {
      "text/plain": [
       "1"
      ]
     },
     "execution_count": 13,
     "metadata": {},
     "output_type": "execute_result"
    }
   ],
   "source": [
    "# converting a float to an int results in loss of information\n",
    "\n",
    "int (1.2) "
   ]
  },
  {
   "cell_type": "code",
   "execution_count": 15,
   "id": "6fbff863-97a4-4f8a-b3c7-597b16a2dc24",
   "metadata": {},
   "outputs": [
    {
     "ename": "ValueError",
     "evalue": "could not convert string to float: '1 person'",
     "output_type": "error",
     "traceback": [
      "\u001b[0;31m---------------------------------------------------------------------------\u001b[0m",
      "\u001b[0;31mValueError\u001b[0m                                Traceback (most recent call last)",
      "Cell \u001b[0;32mIn[15], line 3\u001b[0m\n\u001b[1;32m      1\u001b[0m \u001b[38;5;66;03m# converting strings to int or float\u001b[39;00m\n\u001b[0;32m----> 3\u001b[0m \u001b[38;5;28mfloat\u001b[39m (\u001b[38;5;124m\"\u001b[39m\u001b[38;5;124m1 person\u001b[39m\u001b[38;5;124m\"\u001b[39m)\n",
      "\u001b[0;31mValueError\u001b[0m: could not convert string to float: '1 person'"
     ]
    }
   ],
   "source": [
    "# incorrect conversion of strings to int or float\n",
    "\n",
    "float (\"1 person\") "
   ]
  },
  {
   "cell_type": "code",
   "execution_count": 17,
   "id": "11543488-1c66-4f70-95c1-40048854ac29",
   "metadata": {},
   "outputs": [
    {
     "data": {
      "text/plain": [
       "1.0"
      ]
     },
     "execution_count": 17,
     "metadata": {},
     "output_type": "execute_result"
    }
   ],
   "source": [
    "# correct conversion of string to float or int \n",
    "\n",
    "float (\"1\")"
   ]
  },
  {
   "cell_type": "code",
   "execution_count": 19,
   "id": "8dec0a8a-c254-47e4-86f9-a28a021605c4",
   "metadata": {},
   "outputs": [
    {
     "data": {
      "text/plain": [
       "'1'"
      ]
     },
     "execution_count": 19,
     "metadata": {},
     "output_type": "execute_result"
    }
   ],
   "source": [
    "# convert number to str\n",
    "\n",
    "str (1) "
   ]
  },
  {
   "cell_type": "code",
   "execution_count": 21,
   "id": "a42a84a5-cbd7-4cd9-9cf9-6868ce5ff3e0",
   "metadata": {},
   "outputs": [
    {
     "data": {
      "text/plain": [
       "True"
      ]
     },
     "execution_count": 21,
     "metadata": {},
     "output_type": "execute_result"
    }
   ],
   "source": [
    "# Boolean True value \n",
    "\n",
    "True "
   ]
  },
  {
   "cell_type": "code",
   "execution_count": 23,
   "id": "1a0e3f84-44ae-4f69-bae9-925042605626",
   "metadata": {},
   "outputs": [
    {
     "data": {
      "text/plain": [
       "False"
      ]
     },
     "execution_count": 23,
     "metadata": {},
     "output_type": "execute_result"
    }
   ],
   "source": [
    "# Boolean False value\n",
    "\n",
    "False "
   ]
  },
  {
   "cell_type": "code",
   "execution_count": 25,
   "id": "ea37553b-2bfd-4a61-85de-5bc339cadfe9",
   "metadata": {},
   "outputs": [
    {
     "data": {
      "text/plain": [
       "1"
      ]
     },
     "execution_count": 25,
     "metadata": {},
     "output_type": "execute_result"
    }
   ],
   "source": [
    "# convert True to int\n",
    "\n",
    "int (True) "
   ]
  },
  {
   "cell_type": "code",
   "execution_count": 27,
   "id": "cd001949-5337-4ccf-8132-7dc76b8e5b0d",
   "metadata": {},
   "outputs": [
    {
     "data": {
      "text/plain": [
       "0"
      ]
     },
     "execution_count": 27,
     "metadata": {},
     "output_type": "execute_result"
    }
   ],
   "source": [
    "# convert False to int\n",
    "\n",
    "int (False) "
   ]
  },
  {
   "cell_type": "code",
   "execution_count": 31,
   "id": "20ccff3b-3bc0-44bb-be00-a1b3fe9df1e4",
   "metadata": {},
   "outputs": [
    {
     "data": {
      "text/plain": [
       "True"
      ]
     },
     "execution_count": 31,
     "metadata": {},
     "output_type": "execute_result"
    }
   ],
   "source": [
    "# convert 1 or 0 to boolean\n",
    "\n",
    "bool (1) "
   ]
  },
  {
   "cell_type": "markdown",
   "id": "a99096ca-ccb0-47bd-9fe4-8e1dea050306",
   "metadata": {},
   "source": [
    "#### Exercises "
   ]
  },
  {
   "cell_type": "code",
   "execution_count": 34,
   "id": "5efcfa2d-8775-48c0-a4c1-53194843532f",
   "metadata": {},
   "outputs": [
    {
     "data": {
      "text/plain": [
       "float"
      ]
     },
     "execution_count": 34,
     "metadata": {},
     "output_type": "execute_result"
    }
   ],
   "source": [
    "type (6/2) "
   ]
  },
  {
   "cell_type": "code",
   "execution_count": 36,
   "id": "3a0969ff-cd42-4cb7-88e4-ca2e0e3ed1a4",
   "metadata": {},
   "outputs": [
    {
     "data": {
      "text/plain": [
       "int"
      ]
     },
     "execution_count": 36,
     "metadata": {},
     "output_type": "execute_result"
    }
   ],
   "source": [
    "type (6//2) # double // indicates int"
   ]
  },
  {
   "cell_type": "code",
   "execution_count": 38,
   "id": "5588f3c2-ea29-40aa-aec4-4fb8c810ce15",
   "metadata": {},
   "outputs": [
    {
     "data": {
      "text/plain": [
       "str"
      ]
     },
     "execution_count": 38,
     "metadata": {},
     "output_type": "execute_result"
    }
   ],
   "source": [
    "type (\"Hello, World\")"
   ]
  },
  {
   "cell_type": "code",
   "execution_count": 40,
   "id": "e56ffbd5-dfeb-42f7-a6cd-2d6b66f830bd",
   "metadata": {},
   "outputs": [
    {
     "data": {
      "text/plain": [
       "bool"
      ]
     },
     "execution_count": 40,
     "metadata": {},
     "output_type": "execute_result"
    }
   ],
   "source": [
    "type (\"hello\" == \"world\") "
   ]
  },
  {
   "cell_type": "code",
   "execution_count": 42,
   "id": "3c26a8d1-9a01-4ea5-b8ab-bf4192b3eab5",
   "metadata": {},
   "outputs": [
    {
     "data": {
      "text/plain": [
       "1001"
      ]
     },
     "execution_count": 42,
     "metadata": {},
     "output_type": "execute_result"
    }
   ],
   "source": [
    "int (\"1001\") "
   ]
  },
  {
   "cell_type": "code",
   "execution_count": 44,
   "id": "cb0c2219-6cce-400b-a049-11b4c55483f1",
   "metadata": {},
   "outputs": [
    {
     "data": {
      "text/plain": [
       "1234.56"
      ]
     },
     "execution_count": 44,
     "metadata": {},
     "output_type": "execute_result"
    }
   ],
   "source": [
    "float (\"1234.56\") "
   ]
  },
  {
   "cell_type": "code",
   "execution_count": 46,
   "id": "f9511342-197e-4b47-ab50-924a655285bb",
   "metadata": {},
   "outputs": [
    {
     "data": {
      "text/plain": [
       "'123-456-7890'"
      ]
     },
     "execution_count": 46,
     "metadata": {},
     "output_type": "execute_result"
    }
   ],
   "source": [
    "str (\"123-456-7890\")  "
   ]
  },
  {
   "cell_type": "markdown",
   "id": "3095eb27-2796-4838-8b62-32009f291e2c",
   "metadata": {},
   "source": [
    "## Expressions and Variables for Operations "
   ]
  },
  {
   "cell_type": "code",
   "execution_count": 52,
   "id": "90f3ff69-82b4-4133-8273-0ee9b5abf64b",
   "metadata": {},
   "outputs": [
    {
     "data": {
      "text/plain": [
       "160"
      ]
     },
     "execution_count": 52,
     "metadata": {},
     "output_type": "execute_result"
    }
   ],
   "source": [
    "# addition operation expression\n",
    "\n",
    "43 +60 +16 +41"
   ]
  },
  {
   "cell_type": "code",
   "execution_count": 54,
   "id": "7b303281-be00-49e1-a359-3fc2a71b57cb",
   "metadata": {},
   "outputs": [
    {
     "data": {
      "text/plain": [
       "-10"
      ]
     },
     "execution_count": 54,
     "metadata": {},
     "output_type": "execute_result"
    }
   ],
   "source": [
    "# Subtraction operation expression\n",
    "\n",
    "50 - 60"
   ]
  },
  {
   "cell_type": "code",
   "execution_count": 58,
   "id": "babf0935-800a-465e-b220-f7cb2e0e2cda",
   "metadata": {},
   "outputs": [
    {
     "data": {
      "text/plain": [
       "25"
      ]
     },
     "execution_count": 58,
     "metadata": {},
     "output_type": "execute_result"
    }
   ],
   "source": [
    "# Multiplication operation expression\n",
    "\n",
    "5*5"
   ]
  },
  {
   "cell_type": "code",
   "execution_count": 62,
   "id": "88f73dcf-2c95-4d81-9ab9-291ded85a5a1",
   "metadata": {},
   "outputs": [
    {
     "data": {
      "text/plain": [
       "4.166666666666667"
      ]
     },
     "execution_count": 62,
     "metadata": {},
     "output_type": "execute_result"
    }
   ],
   "source": [
    "# Division operation Expression\n",
    "\n",
    "25/6"
   ]
  },
  {
   "cell_type": "code",
   "execution_count": 64,
   "id": "2bc9a436-7ec4-4161-9d3d-da52ba41b84e",
   "metadata": {},
   "outputs": [
    {
     "data": {
      "text/plain": [
       "4"
      ]
     },
     "execution_count": 64,
     "metadata": {},
     "output_type": "execute_result"
    }
   ],
   "source": [
    "# Double slash for division prompts for int\n",
    "\n",
    "25//6"
   ]
  },
  {
   "cell_type": "code",
   "execution_count": 66,
   "id": "314c024b-cecd-40df-af8a-9d8b1ef24a4f",
   "metadata": {},
   "outputs": [
    {
     "data": {
      "text/plain": [
       "2.6666666666666665"
      ]
     },
     "execution_count": 66,
     "metadata": {},
     "output_type": "execute_result"
    }
   ],
   "source": [
    "# Converting minutes to hours\n",
    "\n",
    "160/60"
   ]
  },
  {
   "cell_type": "code",
   "execution_count": 74,
   "id": "971fb852-ff96-4ccd-ab61-8b234c88afea",
   "metadata": {},
   "outputs": [
    {
     "data": {
      "text/plain": [
       "150"
      ]
     },
     "execution_count": 74,
     "metadata": {},
     "output_type": "execute_result"
    }
   ],
   "source": [
    "# Math expressions follows order of operation \n",
    "\n",
    "30 + 2 * 60"
   ]
  },
  {
   "cell_type": "code",
   "execution_count": 76,
   "id": "bd30e40d-dd01-41a5-8b4c-78ddfe9f9872",
   "metadata": {},
   "outputs": [
    {
     "data": {
      "text/plain": [
       "1920"
      ]
     },
     "execution_count": 76,
     "metadata": {},
     "output_type": "execute_result"
    }
   ],
   "source": [
    "(30+2) * 60"
   ]
  },
  {
   "cell_type": "code",
   "execution_count": 82,
   "id": "d4b53961-6e99-4132-971c-e5aaa36eb6d9",
   "metadata": {},
   "outputs": [
    {
     "data": {
      "text/plain": [
       "160"
      ]
     },
     "execution_count": 82,
     "metadata": {},
     "output_type": "execute_result"
    }
   ],
   "source": [
    "# store values into variable\n",
    "\n",
    "x = 43 +60 +16 +41\n",
    "x"
   ]
  },
  {
   "cell_type": "code",
   "execution_count": 84,
   "id": "6e5b4ebc-a2a8-4f77-8149-38733e70bea5",
   "metadata": {},
   "outputs": [
    {
     "data": {
      "text/plain": [
       "2.6666666666666665"
      ]
     },
     "execution_count": 84,
     "metadata": {},
     "output_type": "execute_result"
    }
   ],
   "source": [
    "# using varibale to perform operations\n",
    "\n",
    "y = x/60\n",
    "y"
   ]
  },
  {
   "cell_type": "code",
   "execution_count": 86,
   "id": "e6ec4625-13c0-40fb-bd07-9859f1a1b0f7",
   "metadata": {},
   "outputs": [
    {
     "data": {
      "text/plain": [
       "2.6666666666666665"
      ]
     },
     "execution_count": 86,
     "metadata": {},
     "output_type": "execute_result"
    }
   ],
   "source": [
    "# overiding previous value\n",
    "\n",
    "x = x/60\n",
    "x"
   ]
  },
  {
   "cell_type": "code",
   "execution_count": 88,
   "id": "5e6802a0-2a97-47a6-bd7d-2bdc518e5782",
   "metadata": {},
   "outputs": [
    {
     "data": {
      "text/plain": [
       "2.3666666666666667"
      ]
     },
     "execution_count": 88,
     "metadata": {},
     "output_type": "execute_result"
    }
   ],
   "source": [
    "# complicated expression w/ meaingful variable name \n",
    "\n",
    "total_hours = (43+42+57)/60\n",
    "total_hours"
   ]
  },
  {
   "cell_type": "markdown",
   "id": "f48ad4c0-32f6-4e8c-95eb-1aa20ac6e4d6",
   "metadata": {},
   "source": [
    "#### Exercises "
   ]
  },
  {
   "cell_type": "code",
   "execution_count": 103,
   "id": "e686f664-68ba-4c1e-bf72-7f94ed2713d3",
   "metadata": {},
   "outputs": [
    {
     "data": {
      "text/plain": [
       "10"
      ]
     },
     "execution_count": 103,
     "metadata": {},
     "output_type": "execute_result"
    }
   ],
   "source": [
    "30 + 20 - 40"
   ]
  },
  {
   "cell_type": "code",
   "execution_count": 105,
   "id": "88cadda7-c4ea-44fa-8593-d56f391e8e83",
   "metadata": {},
   "outputs": [
    {
     "data": {
      "text/plain": [
       "5.0"
      ]
     },
     "execution_count": 105,
     "metadata": {},
     "output_type": "execute_result"
    }
   ],
   "source": [
    "(55-5) / 10"
   ]
  },
  {
   "cell_type": "code",
   "execution_count": 107,
   "id": "c655fc64-e0d0-4655-8cbe-22352e9d475a",
   "metadata": {},
   "outputs": [
    {
     "data": {
      "text/plain": [
       "5.0"
      ]
     },
     "execution_count": 107,
     "metadata": {},
     "output_type": "execute_result"
    }
   ],
   "source": [
    "(6 * 10) / 12"
   ]
  },
  {
   "cell_type": "code",
   "execution_count": 113,
   "id": "fff301cd-c6d6-4571-a50d-bb4ed0f881cf",
   "metadata": {},
   "outputs": [
    {
     "data": {
      "text/plain": [
       "7"
      ]
     },
     "execution_count": 113,
     "metadata": {},
     "output_type": "execute_result"
    }
   ],
   "source": [
    "x = 3 + 2 * 2\n",
    "x"
   ]
  },
  {
   "cell_type": "code",
   "execution_count": 115,
   "id": "d0498d2f-9e12-4f04-b399-1f8b13a8cc20",
   "metadata": {},
   "outputs": [
    {
     "data": {
      "text/plain": [
       "10"
      ]
     },
     "execution_count": 115,
     "metadata": {},
     "output_type": "execute_result"
    }
   ],
   "source": [
    "y = (3+2) * 2\n",
    "y"
   ]
  },
  {
   "cell_type": "code",
   "execution_count": 117,
   "id": "62ef0942-b39d-4fd5-8548-91ba0e01e60a",
   "metadata": {},
   "outputs": [
    {
     "data": {
      "text/plain": [
       "17"
      ]
     },
     "execution_count": 117,
     "metadata": {},
     "output_type": "execute_result"
    }
   ],
   "source": [
    "z = x + y\n",
    "z"
   ]
  },
  {
   "cell_type": "markdown",
   "id": "9ab4b5d3-4b37-41eb-9fcf-004b90db93d5",
   "metadata": {},
   "source": [
    "## Strings"
   ]
  },
  {
   "cell_type": "code",
   "execution_count": 120,
   "id": "4991ef19-8125-44c8-b3d6-4bc4272fb82b",
   "metadata": {},
   "outputs": [
    {
     "data": {
      "text/plain": [
       "'Michael Jackson'"
      ]
     },
     "execution_count": 120,
     "metadata": {},
     "output_type": "execute_result"
    }
   ],
   "source": [
    "# Use quotation marks for defining str\n",
    "\n",
    "\"Michael Jackson\""
   ]
  },
  {
   "cell_type": "code",
   "execution_count": 122,
   "id": "48dcaa8e-20a5-49bd-bbe0-c978200e910e",
   "metadata": {},
   "outputs": [
    {
     "data": {
      "text/plain": [
       "'1 2 3 4 5'"
      ]
     },
     "execution_count": 122,
     "metadata": {},
     "output_type": "execute_result"
    }
   ],
   "source": [
    "# Str can consist of spaces and numbers\n",
    "\n",
    "\"1 2 3 4 5\""
   ]
  },
  {
   "cell_type": "code",
   "execution_count": 124,
   "id": "01c89fee-060c-43d8-8add-3779c68da146",
   "metadata": {},
   "outputs": [
    {
     "data": {
      "text/plain": [
       "'! @ # $'"
      ]
     },
     "execution_count": 124,
     "metadata": {},
     "output_type": "execute_result"
    }
   ],
   "source": [
    "# special characters in str\n",
    "\n",
    "\"! @ # $\""
   ]
  },
  {
   "cell_type": "code",
   "execution_count": 126,
   "id": "872d15bf-f9c2-409c-b8e3-293d429bcc21",
   "metadata": {},
   "outputs": [
    {
     "name": "stdout",
     "output_type": "stream",
     "text": [
      "Hello\n"
     ]
    }
   ],
   "source": [
    "# using print statement eliminates single quotation marks\n",
    "\n",
    "print (\"Hello\")"
   ]
  },
  {
   "cell_type": "code",
   "execution_count": 139,
   "id": "b25bf695-a376-4899-9f2a-56f32d6fa3a5",
   "metadata": {},
   "outputs": [
    {
     "data": {
      "text/plain": [
       "'Michael Jackson'"
      ]
     },
     "execution_count": 139,
     "metadata": {},
     "output_type": "execute_result"
    }
   ],
   "source": [
    "# assign str to variable\n",
    "\n",
    "name = \"Michael Jackson\"\n",
    "name"
   ]
  },
  {
   "cell_type": "code",
   "execution_count": 141,
   "id": "cea9e014-f9eb-40e0-8d1d-ee7b82cdbf88",
   "metadata": {},
   "outputs": [],
   "source": [
    "# Indexing str - indexing starts with/ 0 "
   ]
  },
  {
   "cell_type": "markdown",
   "id": "f85f6bc6-9abf-4a85-b72d-6b5df1289de2",
   "metadata": {},
   "source": [
    "M = 0\n",
    "i = 1\n",
    "c = 2\n",
    "h = 3\n",
    "a = 4\n",
    "e = 5\n",
    "l = 6\n",
    "() = 7\n",
    "J = 8\n",
    "a = 9\n",
    "c = 10\n",
    "k = 11\n",
    "s = 12\n",
    "o = 13\n",
    "n = 14 "
   ]
  },
  {
   "cell_type": "code",
   "execution_count": 143,
   "id": "892d2ad3-7a9d-4ff4-924a-98b4757bcd05",
   "metadata": {},
   "outputs": [
    {
     "name": "stdout",
     "output_type": "stream",
     "text": [
      "M\n"
     ]
    }
   ],
   "source": [
    "# print the first element in the str\n",
    "\n",
    "print (name[0])"
   ]
  },
  {
   "cell_type": "code",
   "execution_count": 153,
   "id": "239a2004-f67e-4a35-9615-2dc28f48ee7d",
   "metadata": {},
   "outputs": [
    {
     "name": "stdout",
     "output_type": "stream",
     "text": [
      "e\n"
     ]
    }
   ],
   "source": [
    "# print x element in str\n",
    "\n",
    "print (name [5])"
   ]
  },
  {
   "cell_type": "code",
   "execution_count": 219,
   "id": "ee8078a8-4f9a-4434-bb82-daeeb65fa86f",
   "metadata": {},
   "outputs": [
    {
     "name": "stdout",
     "output_type": "stream",
     "text": [
      " \n"
     ]
    }
   ],
   "source": [
    "print (name[7])"
   ]
  },
  {
   "cell_type": "code",
   "execution_count": 157,
   "id": "0a9bbfc0-acaa-4e66-8a60-792bb0c586ea",
   "metadata": {},
   "outputs": [
    {
     "name": "stdout",
     "output_type": "stream",
     "text": [
      "l\n"
     ]
    }
   ],
   "source": [
    "print (name[6])"
   ]
  },
  {
   "cell_type": "code",
   "execution_count": 159,
   "id": "c86239a2-9b56-41a4-9114-154812a0aada",
   "metadata": {},
   "outputs": [],
   "source": [
    "# Negative Indexing - count from last character"
   ]
  },
  {
   "cell_type": "markdown",
   "id": "daf45344-e016-4ff3-94fe-f683e58d193a",
   "metadata": {},
   "source": [
    "M = -15\n",
    "i = -14\n",
    "c = -13\n",
    "h = -12\n",
    "a = -11\n",
    "e = -10\n",
    "l = -9\n",
    "() = -8\n",
    "J = -7\n",
    "a = -6\n",
    "c = -5\n",
    "k = -4\n",
    "s = -3\n",
    "o = -2\n",
    "n = -1"
   ]
  },
  {
   "cell_type": "code",
   "execution_count": 161,
   "id": "24450835-fda7-4de2-ba47-b3c170d2001e",
   "metadata": {},
   "outputs": [
    {
     "name": "stdout",
     "output_type": "stream",
     "text": [
      "l\n"
     ]
    }
   ],
   "source": [
    "# print x element in str\n",
    "\n",
    "print ( name[-9])"
   ]
  },
  {
   "cell_type": "code",
   "execution_count": 163,
   "id": "6b2d41a3-9d71-4dc9-8e89-d9c121784b20",
   "metadata": {},
   "outputs": [
    {
     "data": {
      "text/plain": [
       "15"
      ]
     },
     "execution_count": 163,
     "metadata": {},
     "output_type": "execute_result"
    }
   ],
   "source": [
    "# find lenght of str\n",
    "\n",
    "len (\"Michael Jackson\")"
   ]
  },
  {
   "cell_type": "code",
   "execution_count": 167,
   "id": "f5ff5532-1ae4-4d59-aa88-2c681952409e",
   "metadata": {},
   "outputs": [
    {
     "data": {
      "text/plain": [
       "'Mich'"
      ]
     },
     "execution_count": 167,
     "metadata": {},
     "output_type": "execute_result"
    }
   ],
   "source": [
    "# slicing a str\n",
    "## print index 0 to index 3\n",
    "\n",
    "name[0:4]"
   ]
  },
  {
   "cell_type": "code",
   "execution_count": 169,
   "id": "35bc217a-45b1-4ea7-8ae0-db762898fcf9",
   "metadata": {},
   "outputs": [
    {
     "data": {
      "text/plain": [
       "'Jack'"
      ]
     },
     "execution_count": 169,
     "metadata": {},
     "output_type": "execute_result"
    }
   ],
   "source": [
    "## print index 8 to index 11\n",
    "\n",
    "name[8:12]"
   ]
  },
  {
   "cell_type": "code",
   "execution_count": 171,
   "id": "518d1674-b3c3-4141-ab9e-c69d975d0516",
   "metadata": {},
   "outputs": [
    {
     "data": {
      "text/plain": [
       "'McalJcsn'"
      ]
     },
     "execution_count": 171,
     "metadata": {},
     "output_type": "execute_result"
    }
   ],
   "source": [
    "# print every other element \n",
    "\n",
    "name[::2]"
   ]
  },
  {
   "cell_type": "code",
   "execution_count": 173,
   "id": "7a0f80f7-c831-49ae-8eca-dfeab1a5bcb7",
   "metadata": {},
   "outputs": [
    {
     "data": {
      "text/plain": [
       "'Mhlas'"
      ]
     },
     "execution_count": 173,
     "metadata": {},
     "output_type": "execute_result"
    }
   ],
   "source": [
    "# print every third element\n",
    "\n",
    "name[::3]"
   ]
  },
  {
   "cell_type": "code",
   "execution_count": 175,
   "id": "c0880288-1865-46e8-915e-b96880bfb962",
   "metadata": {},
   "outputs": [
    {
     "data": {
      "text/plain": [
       "'Mca'"
      ]
     },
     "execution_count": 175,
     "metadata": {},
     "output_type": "execute_result"
    }
   ],
   "source": [
    "# get every second index within specific range (index 0 to index 4)\n",
    "\n",
    "name [0:5:2]"
   ]
  },
  {
   "cell_type": "code",
   "execution_count": 183,
   "id": "1c09c68c-e580-4cf2-9b3c-2890ae3326db",
   "metadata": {},
   "outputs": [
    {
     "data": {
      "text/plain": [
       "'Michael Jackson is the best'"
      ]
     },
     "execution_count": 183,
     "metadata": {},
     "output_type": "execute_result"
    }
   ],
   "source": [
    "# Concatenate (combine) str - needs to include space\n",
    "\n",
    "Statement = name + \" is the best\"\n",
    "Statement"
   ]
  },
  {
   "cell_type": "code",
   "execution_count": 185,
   "id": "64438b62-ba21-475a-be23-550058cbb724",
   "metadata": {},
   "outputs": [
    {
     "data": {
      "text/plain": [
       "'Michael JacksonMichael JacksonMichael Jackson'"
      ]
     },
     "execution_count": 185,
     "metadata": {},
     "output_type": "execute_result"
    }
   ],
   "source": [
    "# print three times\n",
    "\n",
    "3 * name"
   ]
  },
  {
   "cell_type": "code",
   "execution_count": 187,
   "id": "41db0dd7-4eab-474e-85a5-26cfa41b43da",
   "metadata": {},
   "outputs": [
    {
     "data": {
      "text/plain": [
       "\"I'm happy\""
      ]
     },
     "execution_count": 187,
     "metadata": {},
     "output_type": "execute_result"
    }
   ],
   "source": [
    "test_statement = \"I'm happy\"\n",
    "test_statement"
   ]
  },
  {
   "cell_type": "code",
   "execution_count": 189,
   "id": "340f0beb-2f02-4b33-a3ff-3821ea7efa05",
   "metadata": {},
   "outputs": [
    {
     "data": {
      "text/plain": [
       "' today'"
      ]
     },
     "execution_count": 189,
     "metadata": {},
     "output_type": "execute_result"
    }
   ],
   "source": [
    "additional_statement = \" today\"\n",
    "additional_statement"
   ]
  },
  {
   "cell_type": "code",
   "execution_count": 191,
   "id": "6e157b3b-faee-494b-8169-5a3a2d701e0f",
   "metadata": {},
   "outputs": [
    {
     "name": "stdout",
     "output_type": "stream",
     "text": [
      "I'm happy today\n"
     ]
    }
   ],
   "source": [
    "# concatenate str\n",
    "\n",
    "new_statement = test_statement + additional_statement \n",
    "print (new_statement) "
   ]
  },
  {
   "cell_type": "code",
   "execution_count": null,
   "id": "78025204-ce21-49f4-be4f-4028b4f39930",
   "metadata": {},
   "outputs": [],
   "source": []
  },
  {
   "cell_type": "code",
   "execution_count": null,
   "id": "350be205-a365-493f-b497-27ed51d3819e",
   "metadata": {},
   "outputs": [],
   "source": [
    "# escape sequances include \\t (tab) , \\n (new line)  , \\\\ (include back slash), and r\"...\" (raw content)"
   ]
  },
  {
   "cell_type": "code",
   "execution_count": 193,
   "id": "b393337a-406b-4f86-b7b3-4b54e351bd89",
   "metadata": {},
   "outputs": [
    {
     "name": "stdout",
     "output_type": "stream",
     "text": [
      "I'm happy \n",
      " today\n"
     ]
    }
   ],
   "source": [
    "# new line escape sequence\n",
    "\n",
    "print (\"I'm happy \\n today\")"
   ]
  },
  {
   "cell_type": "code",
   "execution_count": 195,
   "id": "47385d71-4f70-424f-92c4-9be050506209",
   "metadata": {},
   "outputs": [
    {
     "name": "stdout",
     "output_type": "stream",
     "text": [
      "I'm happy \t today and always\n"
     ]
    }
   ],
   "source": [
    "# Tab escape sequence \n",
    "print (\"I'm happy \\t today and always\")"
   ]
  },
  {
   "cell_type": "code",
   "execution_count": 197,
   "id": "0841a1f3-58b5-4235-bccf-35fc6b81f4e6",
   "metadata": {},
   "outputs": [
    {
     "name": "stdout",
     "output_type": "stream",
     "text": [
      "Michael Jackson \\ is the best\n"
     ]
    }
   ],
   "source": [
    "# include back slash in str\n",
    "\n",
    "print (\"Michael Jackson \\\\ is the best\")"
   ]
  },
  {
   "cell_type": "code",
   "execution_count": 199,
   "id": "2871c6a5-5d3e-40a6-9914-4d139bda9020",
   "metadata": {},
   "outputs": [
    {
     "name": "stdout",
     "output_type": "stream",
     "text": [
      "Michael Jackson \\ is the best\n"
     ]
    }
   ],
   "source": [
    "# r will tell python that str will be displayed as raw str\n",
    "\n",
    "print (r\"Michael Jackson \\ is the best\")"
   ]
  },
  {
   "cell_type": "code",
   "execution_count": 201,
   "id": "2f3d8ba8-bbdf-4639-8838-ca83fba6d3f9",
   "metadata": {},
   "outputs": [
    {
     "name": "stdout",
     "output_type": "stream",
     "text": [
      "Michael Jackson \\ is the best\n"
     ]
    },
    {
     "name": "stderr",
     "output_type": "stream",
     "text": [
      "<>:1: SyntaxWarning: invalid escape sequence '\\ '\n",
      "<>:1: SyntaxWarning: invalid escape sequence '\\ '\n",
      "/var/folders/hv/17tcrwkn00qbsm1tch10yjl40000gn/T/ipykernel_13436/821942297.py:1: SyntaxWarning: invalid escape sequence '\\ '\n",
      "  print (\"Michael Jackson \\ is the best\")\n"
     ]
    }
   ],
   "source": [
    "print (\"Michael Jackson \\ is the best\")"
   ]
  },
  {
   "cell_type": "code",
   "execution_count": null,
   "id": "f7371335-eeaa-437d-a712-c6ee18343157",
   "metadata": {},
   "outputs": [],
   "source": [
    "# escape sequances include \\t (tab) , \\n (new line)  , \\\\ (include back slash), and r\"...\" (raw content)"
   ]
  },
  {
   "cell_type": "code",
   "execution_count": null,
   "id": "293ecb76-608a-4bab-a08e-709fb97f2f85",
   "metadata": {},
   "outputs": [],
   "source": []
  },
  {
   "cell_type": "code",
   "execution_count": 205,
   "id": "82f77c57-c318-4a75-8bfa-6fda270fa549",
   "metadata": {},
   "outputs": [
    {
     "name": "stdout",
     "output_type": "stream",
     "text": [
      "before upper: thriller is the sixth studio album\n",
      "After upper: THRILLER IS THE SIXTH STUDIO ALBUM\n"
     ]
    }
   ],
   "source": [
    "# convert all characters in str to upper case\n",
    "\n",
    "a = \"thriller is the sixth studio album\"\n",
    "print(\"before upper:\" , a)\n",
    "b = a.upper()\n",
    "print (\"After upper:\" , b)"
   ]
  },
  {
   "cell_type": "code",
   "execution_count": 207,
   "id": "1a367c87-073b-428c-905e-0958765194ef",
   "metadata": {},
   "outputs": [
    {
     "data": {
      "text/plain": [
       "'Janet Jackson is the best'"
      ]
     },
     "execution_count": 207,
     "metadata": {},
     "output_type": "execute_result"
    }
   ],
   "source": [
    "# replace an old substring with a new substring \n",
    "\n",
    "a = \"Michael Jackson is the best\"\n",
    "b = a.replace(\"Michael\" , \"Janet\")\n",
    "b"
   ]
  },
  {
   "cell_type": "code",
   "execution_count": 211,
   "id": "d26660f2-fc76-4afe-b16c-082a7494d477",
   "metadata": {},
   "outputs": [
    {
     "data": {
      "text/plain": [
       "5"
      ]
     },
     "execution_count": 211,
     "metadata": {},
     "output_type": "execute_result"
    }
   ],
   "source": [
    "# Find substring in string - Only the index of the first element will show\n",
    "\n",
    "name = \"Michael Jackson\"\n",
    "name.find (\"el\")"
   ]
  },
  {
   "cell_type": "code",
   "execution_count": 213,
   "id": "d2dc85cb-e52c-4ef5-a750-736a73b8afec",
   "metadata": {},
   "outputs": [
    {
     "data": {
      "text/plain": [
       "-1"
      ]
     },
     "execution_count": 213,
     "metadata": {},
     "output_type": "execute_result"
    }
   ],
   "source": [
    "# if the substring cannot be found\n",
    "\n",
    "name.find (\"happ\") "
   ]
  },
  {
   "cell_type": "code",
   "execution_count": 215,
   "id": "0889b837-dd93-4a5e-86f1-a8e6230d9f39",
   "metadata": {},
   "outputs": [
    {
     "data": {
      "text/plain": [
       "['Michael', 'Jackson']"
      ]
     },
     "execution_count": 215,
     "metadata": {},
     "output_type": "execute_result"
    }
   ],
   "source": [
    "# split substring into list\n",
    "name = \"Michael Jackson\"\n",
    "split_string = (name.split())\n",
    "split_string"
   ]
  },
  {
   "cell_type": "code",
   "execution_count": null,
   "id": "41529980-bead-4fae-a49a-04f2cc7e60bf",
   "metadata": {},
   "outputs": [],
   "source": []
  },
  {
   "cell_type": "code",
   "execution_count": 14,
   "id": "93fe1c1e-c8d6-41c5-8870-53db38f6ed80",
   "metadata": {},
   "outputs": [],
   "source": [
    "# import module for regular expressions (RegEx) \n",
    "\n",
    "import re"
   ]
  },
  {
   "cell_type": "code",
   "execution_count": 16,
   "id": "de0312e3-e9ad-4156-8202-cf7e4d8e6e5c",
   "metadata": {},
   "outputs": [
    {
     "name": "stdout",
     "output_type": "stream",
     "text": [
      "Match found!\n"
     ]
    }
   ],
   "source": [
    "# how to use the search function \n",
    "\n",
    "s1 = \"Today is a great day\" #defining statement \n",
    "\n",
    "pattern = r\"Today\" #define what pattern to search for\n",
    "\n",
    "result = re.search(pattern, s1) #instruction for search function (ie. search for defined pattern in identfied statement) \n",
    "\n",
    "#instruction for result output \n",
    "if result:\n",
    "    print(\"Match found!\")\n",
    "else:\n",
    "    print(\"Match not found.\") "
   ]
  },
  {
   "cell_type": "code",
   "execution_count": 18,
   "id": "a8f2c4e6-2f5e-40a9-b31b-648b2dbb7df1",
   "metadata": {},
   "outputs": [
    {
     "name": "stdout",
     "output_type": "stream",
     "text": [
      "phone number found: 1234456789\n"
     ]
    }
   ],
   "source": [
    "# \\d function for matching digits\n",
    "\n",
    "pattern = r\"\\d\\d\\d\\d\\d\\d\\d\\d\\d\\d\" #ten digit sequence (ie phone number)\n",
    "\n",
    "text = \"My phone number is 1234456789\" # define statement to be searched\n",
    "\n",
    "match = re.search(pattern, text) #search for identified pattern in text\n",
    "\n",
    "if match: \n",
    "    print(\"phone number found:\", match.group())\n",
    "else:\n",
    "    print(\"No match\")"
   ]
  },
  {
   "cell_type": "code",
   "execution_count": 20,
   "id": "c148b11a-7aa2-40a8-8a58-d462b04901b5",
   "metadata": {},
   "outputs": [
    {
     "name": "stdout",
     "output_type": "stream",
     "text": [
      "Matches: [',', ' ', '@', '#', '!']\n"
     ]
    }
   ],
   "source": [
    "# \\W function for matching non-word characters\n",
    "\n",
    "pattern = r\"\\W\" \n",
    "text = \"Hello, World@#!\"\n",
    "matches = re.findall(pattern, text) # find all instances of non-word characters \n",
    "\n",
    "print(\"Matches:\", matches) "
   ]
  },
  {
   "cell_type": "code",
   "execution_count": 22,
   "id": "8430956a-772a-4041-af59-d9932392f965",
   "metadata": {},
   "outputs": [
    {
     "name": "stdout",
     "output_type": "stream",
     "text": [
      "Matches: None\n"
     ]
    }
   ],
   "source": [
    "# experimentation w/ match instruction \n",
    "\n",
    "pattern = r\"\\W\" \n",
    "text = \"Hello, World!\"\n",
    "matches = re.match(pattern, text)\n",
    "\n",
    "print(\"Matches:\", matches) #match is used for comparing to the begining of strings only"
   ]
  },
  {
   "cell_type": "code",
   "execution_count": 24,
   "id": "50f98db4-d694-4194-8ad0-236bb08564f2",
   "metadata": {},
   "outputs": [
    {
     "name": "stdout",
     "output_type": "stream",
     "text": [
      "match found: He\n"
     ]
    }
   ],
   "source": [
    "# experimentation w/ match instruction \n",
    "\n",
    "pattern = r\"He\" \n",
    "text = \"Hello, World!\"\n",
    "matches = re.match(pattern, text)\n",
    "\n",
    "#match is used for comparing to the begining of strings only\n",
    "\n",
    "if match: \n",
    "    print(\"match found:\", matches.group())\n",
    "else:\n",
    "    print(\"No match\")"
   ]
  },
  {
   "cell_type": "code",
   "execution_count": 26,
   "id": "b29adf29-d9b3-49cd-acf6-b354ba14c1fa",
   "metadata": {},
   "outputs": [
    {
     "name": "stdout",
     "output_type": "stream",
     "text": [
      "Matches: <re.Match object; span=(5, 6), match=','>\n"
     ]
    }
   ],
   "source": [
    "# experimentation w/ search instruction \n",
    "\n",
    "pattern = r\"\\W\" \n",
    "text = \"Hello, World!\"\n",
    "matches = re.search(pattern, text)\n",
    "\n",
    "print(\"Matches:\", matches) #search finds first instance "
   ]
  },
  {
   "cell_type": "code",
   "execution_count": null,
   "id": "4c3d4786-1c08-48dd-8b4f-6c6cf474e3a3",
   "metadata": {},
   "outputs": [],
   "source": []
  },
  {
   "cell_type": "code",
   "execution_count": 29,
   "id": "9cb30f49-0837-454f-a2fd-f261ce9ab5a6",
   "metadata": {},
   "outputs": [
    {
     "name": "stdout",
     "output_type": "stream",
     "text": [
      "['as', 'as']\n"
     ]
    }
   ],
   "source": [
    "# using the findall function\n",
    "\n",
    "s2 = \"Michael_Jackson was a singer and known as the 'King_of_Pop'\" # defining the statement\n",
    "\n",
    "result = re.findall(\"as\", s2) # find all instances of \"as\" in defined statement \n",
    "\n",
    "print(result)  "
   ]
  },
  {
   "cell_type": "code",
   "execution_count": 31,
   "id": "35771134-5bbf-4257-bea9-4436fbba4c6a",
   "metadata": {},
   "outputs": [
    {
     "name": "stdout",
     "output_type": "stream",
     "text": [
      "['Michael_Jackson', 'was', 'a', 'singer', 'and', 'known', 'as', 'the', \"'King_of_Pop'\"]\n"
     ]
    }
   ],
   "source": [
    "# example of spliting (re.split()) a function using whitespace characters (\\s) \n",
    "\n",
    "split_array = re.split(r\"\\s\" , s2)\n",
    "\n",
    "print(split_array)"
   ]
  },
  {
   "cell_type": "code",
   "execution_count": 33,
   "id": "b1e409a8-6fd7-4193-b904-ffc75e9625fd",
   "metadata": {},
   "outputs": [
    {
     "name": "stdout",
     "output_type": "stream",
     "text": [
      "Michael_Jackson was a singer and known as the 'legend'\n"
     ]
    }
   ],
   "source": [
    "# example of substitution \n",
    "\n",
    "pattern = r\"King_of_Pop\" #substring to be replaced\n",
    "\n",
    "replacement = r\"legend\" #define replacement \n",
    "\n",
    "new_string = re.sub(pattern, replacement, s2) #replace identified substring with identified replacement \n",
    "\n",
    "print (new_string) "
   ]
  },
  {
   "cell_type": "markdown",
   "id": "ee85a2fb-ac1a-4d20-ae0c-9e2a221f9198",
   "metadata": {},
   "source": [
    "#### Exercises "
   ]
  },
  {
   "cell_type": "code",
   "execution_count": 36,
   "id": "af8ea9e8-941d-44aa-b396-36976c2f89a1",
   "metadata": {},
   "outputs": [
    {
     "data": {
      "text/plain": [
       "'1'"
      ]
     },
     "execution_count": 36,
     "metadata": {},
     "output_type": "execute_result"
    }
   ],
   "source": [
    "a = \"1\"\n",
    "a"
   ]
  },
  {
   "cell_type": "code",
   "execution_count": 38,
   "id": "915209e4-7d02-4a25-b315-206a1ede2d7b",
   "metadata": {},
   "outputs": [
    {
     "data": {
      "text/plain": [
       "'2'"
      ]
     },
     "execution_count": 38,
     "metadata": {},
     "output_type": "execute_result"
    }
   ],
   "source": [
    "b = \"2\"\n",
    "b"
   ]
  },
  {
   "cell_type": "code",
   "execution_count": 40,
   "id": "30e7f55a-7212-46b2-916f-36aa06148b71",
   "metadata": {},
   "outputs": [
    {
     "data": {
      "text/plain": [
       "'12'"
      ]
     },
     "execution_count": 40,
     "metadata": {},
     "output_type": "execute_result"
    }
   ],
   "source": [
    "c = a + b \n",
    "c"
   ]
  },
  {
   "cell_type": "code",
   "execution_count": 42,
   "id": "5037d059-6467-405c-93b8-57dd9fcfa609",
   "metadata": {},
   "outputs": [
    {
     "data": {
      "text/plain": [
       "'ABC'"
      ]
     },
     "execution_count": 42,
     "metadata": {},
     "output_type": "execute_result"
    }
   ],
   "source": [
    "d = \"ABCDEFG\"\n",
    "d[0:3]"
   ]
  },
  {
   "cell_type": "code",
   "execution_count": 44,
   "id": "889a603c-b9ff-4de9-86b8-e1e9f6df344d",
   "metadata": {},
   "outputs": [
    {
     "data": {
      "text/plain": [
       "'correct'"
      ]
     },
     "execution_count": 44,
     "metadata": {},
     "output_type": "execute_result"
    }
   ],
   "source": [
    "e = \"clocrkrlelclt\"\n",
    "e[::2]"
   ]
  },
  {
   "cell_type": "code",
   "execution_count": 46,
   "id": "4c983ad3-481b-4a91-9851-3eeb1278594c",
   "metadata": {},
   "outputs": [
    {
     "name": "stdout",
     "output_type": "stream",
     "text": [
      "\\\n"
     ]
    }
   ],
   "source": [
    "print(\"\\\\\")"
   ]
  },
  {
   "cell_type": "code",
   "execution_count": 48,
   "id": "d3b9ef9e-4510-4988-b36d-04a6422dddcb",
   "metadata": {},
   "outputs": [
    {
     "data": {
      "text/plain": [
       "'YOU ARE WRONG'"
      ]
     },
     "execution_count": 48,
     "metadata": {},
     "output_type": "execute_result"
    }
   ],
   "source": [
    "f = \"You are wrong\"\n",
    "f.upper()"
   ]
  },
  {
   "cell_type": "code",
   "execution_count": 50,
   "id": "81b7a13a-63c2-41d3-a408-3306988f4e47",
   "metadata": {},
   "outputs": [
    {
     "data": {
      "text/plain": [
       "'you are right'"
      ]
     },
     "execution_count": 50,
     "metadata": {},
     "output_type": "execute_result"
    }
   ],
   "source": [
    "f2 = \"YOU ARE RIGHT\"\n",
    "f2.lower()"
   ]
  },
  {
   "cell_type": "code",
   "execution_count": 52,
   "id": "0bafee03-307a-468a-bb9e-7e5828f0e703",
   "metadata": {},
   "outputs": [
    {
     "data": {
      "text/plain": [
       "96"
      ]
     },
     "execution_count": 52,
     "metadata": {},
     "output_type": "execute_result"
    }
   ],
   "source": [
    "g = \"Mary had a little lamb little lamb, little lamb Mary had a little lamb, Its fleece was white as snow And everywhere that Mary went Mary went, Mary went, Everywhere that Mary went The lamb was sure to go\" \n",
    "\n",
    "g.find (\"snow\")"
   ]
  },
  {
   "cell_type": "code",
   "execution_count": 54,
   "id": "b35107a9-c0eb-46ae-bb04-2be03672785a",
   "metadata": {},
   "outputs": [
    {
     "data": {
      "text/plain": [
       "'Bob had a little lamb little lamb, little lamb Bob had a little lamb, Its fleece was white as snow And everywhere that Bob went Bob went, Bob went, Everywhere that Bob went The lamb was sure to go'"
      ]
     },
     "execution_count": 54,
     "metadata": {},
     "output_type": "execute_result"
    }
   ],
   "source": [
    "g.replace(\"Mary\", \"Bob\")"
   ]
  },
  {
   "cell_type": "code",
   "execution_count": 56,
   "id": "33c460a5-1016-4706-ad69-a5db70aeb1fa",
   "metadata": {},
   "outputs": [
    {
     "data": {
      "text/plain": [
       "'Mary had a little lamb little lamb. little lamb Mary had a little lamb. Its fleece was white as snow And everywhere that Mary went Mary went. Mary went. Everywhere that Mary went The lamb was sure to go'"
      ]
     },
     "execution_count": 56,
     "metadata": {},
     "output_type": "execute_result"
    }
   ],
   "source": [
    "g.replace(\",\", \".\")"
   ]
  },
  {
   "cell_type": "code",
   "execution_count": 58,
   "id": "4a320a6b-ed37-47d1-a0a9-7ee2732c19b5",
   "metadata": {},
   "outputs": [
    {
     "data": {
      "text/plain": [
       "['Mary',\n",
       " 'had',\n",
       " 'a',\n",
       " 'little',\n",
       " 'lamb',\n",
       " 'little',\n",
       " 'lamb,',\n",
       " 'little',\n",
       " 'lamb',\n",
       " 'Mary',\n",
       " 'had',\n",
       " 'a',\n",
       " 'little',\n",
       " 'lamb,',\n",
       " 'Its',\n",
       " 'fleece',\n",
       " 'was',\n",
       " 'white',\n",
       " 'as',\n",
       " 'snow',\n",
       " 'And',\n",
       " 'everywhere',\n",
       " 'that',\n",
       " 'Mary',\n",
       " 'went',\n",
       " 'Mary',\n",
       " 'went,',\n",
       " 'Mary',\n",
       " 'went,',\n",
       " 'Everywhere',\n",
       " 'that',\n",
       " 'Mary',\n",
       " 'went',\n",
       " 'The',\n",
       " 'lamb',\n",
       " 'was',\n",
       " 'sure',\n",
       " 'to',\n",
       " 'go']"
      ]
     },
     "execution_count": 58,
     "metadata": {},
     "output_type": "execute_result"
    }
   ],
   "source": [
    "g.split()"
   ]
  },
  {
   "cell_type": "code",
   "execution_count": 60,
   "id": "fd77575f-36f7-4c9a-971d-e74b3f690d0e",
   "metadata": {},
   "outputs": [
    {
     "data": {
      "text/plain": [
       "['1', '1', '0', '5']"
      ]
     },
     "execution_count": 60,
     "metadata": {},
     "output_type": "execute_result"
    }
   ],
   "source": [
    "s3 = \"House number - 1105\"\n",
    "\n",
    "re.findall(r\"\\d\", s3) # my initial attempt forgot r before \"\\d\""
   ]
  },
  {
   "cell_type": "code",
   "execution_count": 62,
   "id": "60717354-4b55-438c-a870-dcb56908d0a7",
   "metadata": {},
   "outputs": [
    {
     "name": "stdout",
     "output_type": "stream",
     "text": [
      "Digit found: 1105\n"
     ]
    }
   ],
   "source": [
    "s3 = \"House number - 1105\"\n",
    "\n",
    "result = re.search (r\"\\d\\d\\d\\d\", s3)\n",
    "\n",
    "if result:\n",
    "    print (\"Digit found:\" , result.group()) \n",
    "else:\n",
    "    print (\"Digit not found\") #correct answer "
   ]
  },
  {
   "cell_type": "code",
   "execution_count": 64,
   "id": "414981d6-5c6a-4b07-949b-186007572647",
   "metadata": {},
   "outputs": [
    {
     "name": "stdout",
     "output_type": "stream",
     "text": [
      "The quick brown bear jumps over the lazy dog\n"
     ]
    }
   ],
   "source": [
    "str1 = \"The quick brown fox jumps over the lazy dog\"\n",
    "\n",
    "str2 = re.sub(r\"fox\" , \"bear\", str1) #forgot r before \"fox\"\n",
    "print (str2)"
   ]
  },
  {
   "cell_type": "code",
   "execution_count": 66,
   "id": "b04e4965-de43-4e76-8c34-3279523c7441",
   "metadata": {},
   "outputs": [
    {
     "data": {
      "text/plain": [
       "['woo', 'woo', 'woo', 'woo']"
      ]
     },
     "execution_count": 66,
     "metadata": {},
     "output_type": "execute_result"
    }
   ],
   "source": [
    "str3 = \"How much wood would a woodchuck chuck, if a woodchuck could chuck wood\"\n",
    "\n",
    "re.findall (r\"woo\" , str3) # initial attempt"
   ]
  },
  {
   "cell_type": "code",
   "execution_count": 68,
   "id": "56b4ab47-0cdd-4c94-bb9c-43e4fd95c160",
   "metadata": {},
   "outputs": [
    {
     "name": "stdout",
     "output_type": "stream",
     "text": [
      "['woo', 'woo', 'woo', 'woo']\n"
     ]
    }
   ],
   "source": [
    "str3 = \"How much wood would a woodchuck chuck, if a woodchuck could chuck wood\"\n",
    "\n",
    "match = re.findall (r\"woo\" , str3) #provided answer \n",
    "\n",
    "print (match)"
   ]
  },
  {
   "cell_type": "code",
   "execution_count": null,
   "id": "0e3015f6-78b0-4192-a57b-1351e9bcf031",
   "metadata": {},
   "outputs": [],
   "source": []
  },
  {
   "cell_type": "markdown",
   "id": "34bd432b-be66-4d28-b2cc-764e4c2cc5cb",
   "metadata": {},
   "source": [
    "## Author\n",
    "Elizabeth Ekeruo"
   ]
  },
  {
   "cell_type": "code",
   "execution_count": null,
   "id": "c02a6760-0446-4041-a7aa-cebc3a3d0053",
   "metadata": {},
   "outputs": [],
   "source": []
  }
 ],
 "metadata": {
  "kernelspec": {
   "display_name": "Python 3 (ipykernel)",
   "language": "python",
   "name": "python3"
  },
  "language_info": {
   "codemirror_mode": {
    "name": "ipython",
    "version": 3
   },
   "file_extension": ".py",
   "mimetype": "text/x-python",
   "name": "python",
   "nbconvert_exporter": "python",
   "pygments_lexer": "ipython3",
   "version": "3.12.4"
  }
 },
 "nbformat": 4,
 "nbformat_minor": 5
}
